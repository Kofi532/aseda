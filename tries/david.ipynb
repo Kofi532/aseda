{
 "cells": [
  {
   "cell_type": "code",
   "execution_count": 4,
   "metadata": {},
   "outputs": [
    {
     "name": "stderr",
     "output_type": "stream",
     "text": [
      "c:\\Users\\KOFI ADUKPO\\Desktop\\code\\aenv\\lib\\site-packages\\openpyxl\\styles\\stylesheet.py:226: UserWarning: Workbook contains no default style, apply openpyxl's default\n",
      "  warn(\"Workbook contains no default style, apply openpyxl's default\")\n"
     ]
    },
    {
     "name": "stdout",
     "output_type": "stream",
     "text": [
      "Missing Data:\n",
      " ind_id                      0\n",
      "ind_definition              3\n",
      "datasource                  3\n",
      "reportyear                  3\n",
      "burden                      3\n",
      "tenure                      3\n",
      "race_eth_code               3\n",
      "race_eth_name               3\n",
      "income_level                3\n",
      "geotype                     3\n",
      "geotypevalue                3\n",
      "geoname                     3\n",
      "county_name               813\n",
      "county_fips               813\n",
      "region_name                57\n",
      "region_code                57\n",
      "total_households       308085\n",
      "burdened_households    308085\n",
      "percent                341271\n",
      "LL95CI                 343438\n",
      "UL95CI                 343438\n",
      "SE                     343438\n",
      "rse                    362757\n",
      "CA_decile              488514\n",
      "CA_RR                  419456\n",
      "version                     3\n",
      "dtype: int64\n"
     ]
    }
   ],
   "source": [
    "import pandas as pd\n",
    "import matplotlib.pyplot as plt\n",
    "import seaborn as sns\n",
    "\n",
    "# Load your dataset into a DataFrame\n",
    "data = pd.read_excel(\"C:\\\\Users\\\\KOFI ADUKPO\\\\Downloads\\\\hci_acs_chas_raceincome_housingcostburden_ct_pl_co_re_st_7-30-14-ada.xlsx\")\n",
    "\n",
    "\n",
    "\n",
    "# 1. Missing Data\n",
    "# Check for missing data\n",
    "missing_data = data.isnull().sum()\n",
    "print(\"Missing Data:\\n\", missing_data)\n",
    "\n"
   ]
  },
  {
   "cell_type": "code",
   "execution_count": 5,
   "metadata": {},
   "outputs": [],
   "source": [
    "\n",
    "\n",
    "# Visualize missing data using a heatmap\n",
    "sns.heatmap(data.isnull(), cbar=False, cmap=\"viridis\")\n",
    "plt.title(\"Missing Data Heatmap\")\n",
    "plt.show()\n",
    "\n"
   ]
  },
  {
   "cell_type": "code",
   "execution_count": null,
   "metadata": {},
   "outputs": [],
   "source": [
    "\n",
    "# 2. Outliers\n",
    "# Visualize potential outliers using box plots or scatter plots\n",
    "sns.boxplot(data=data[\"column_with_outliers\"])\n",
    "plt.title(\"Box Plot for Outliers\")\n",
    "plt.show()\n",
    "\n",
    "# 3. Errors\n",
    "# You need to define what kind of errors you're looking for in the data\n",
    "\n",
    "# Example: Check for unrealistic values\n",
    "unrealistic_values = data[data[\"column_with_errors\"] < 0]\n",
    "print(\"Unrealistic Values:\\n\", unrealistic_values)\n",
    "\n",
    "# Visualize the distribution of the column with errors\n",
    "sns.distplot(data[\"column_with_errors\"])\n",
    "plt.title(\"Distribution of Column with Errors\")\n",
    "plt.show()"
   ]
  },
  {
   "cell_type": "code",
   "execution_count": null,
   "metadata": {},
   "outputs": [],
   "source": []
  },
  {
   "cell_type": "code",
   "execution_count": null,
   "metadata": {},
   "outputs": [],
   "source": []
  }
 ],
 "metadata": {
  "kernelspec": {
   "display_name": "aenv",
   "language": "python",
   "name": "python3"
  },
  "language_info": {
   "codemirror_mode": {
    "name": "ipython",
    "version": 3
   },
   "file_extension": ".py",
   "mimetype": "text/x-python",
   "name": "python",
   "nbconvert_exporter": "python",
   "pygments_lexer": "ipython3",
   "version": "3.9.13"
  }
 },
 "nbformat": 4,
 "nbformat_minor": 2
}
