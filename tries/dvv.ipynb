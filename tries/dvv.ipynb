{
 "cells": [
  {
   "cell_type": "code",
   "execution_count": 49,
   "metadata": {},
   "outputs": [
    {
     "name": "stdout",
     "output_type": "stream",
     "text": [
      "Time 0: D4, F#4, D3, A3\n",
      "Time 1: D4, F#4, A2, A3\n",
      "Time 2: F#4, A4, A2, A3\n",
      "Time 3: C#4, G4, E3, A3\n",
      "Time 4: C#4, F#4, D#3, A3\n",
      "Time 5: C#4, G4, E3, A3\n",
      "Time 6: C#4, B4, A2, A3\n",
      "Time 7: D4, A4, F#3, A3\n",
      "Time 8: D4, G#4, F#3, A3\n",
      "Time 9: D4, A4, F#2, A3\n",
      "Time 10: D4, D5, B2, G3\n",
      "Time 11: D5, E4, A2, A3\n",
      "Time 12: C#5\n",
      "Time 13: A4, D5, F#3, D4\n",
      "Time 14: G4, B4, G3, D4\n",
      "Time 15: D4, A4, F#3, A3\n",
      "Time 16: D4, G4, E3, B3\n",
      "Time 17: C#4, A4, A2, A3\n",
      "Time 18: D4, F#4, D3, A3\n",
      "Time 19: E4, G#4, D3, B3\n",
      "Time 20: E4, A4, C#3, A3\n",
      "Time 21: F#4, B4, D3, A3\n",
      "Time 22: E4, C#5, E3, A3\n",
      "Time 23: E3, G#3\n",
      "Time 24: B4, D4\n",
      "Time 25: A2, A3\n",
      "Time 26: C#4, A4\n",
      "Time 27: A3, A3\n",
      "Time 28: A4, A4, A3, C#4\n",
      "Time 29: G4, E5\n",
      "Time 30: A2, C#4\n",
      "Time 31: B2, D4\n",
      "Time 32: G4, C#5\n",
      "Time 33: F#4, A4, C#3, A3\n",
      "Time 34: E4, G4, D3, A3\n",
      "Time 35: D4, F#4, E3, A3\n",
      "Time 36: C#4, G4, F#3, A3\n",
      "Time 37: D4, A4, F#3, A3\n",
      "Time 38: D4, D4, G3, B3\n",
      "Time 39: D4, D4, G2, D3\n",
      "Time 40: B3, G4, B4, G2, D#3\n",
      "Time 41: B3, F#4, A4, G2, E3\n",
      "Time 42: B3, E4, G4, A2, F#3\n",
      "Time 43: A3, D4, F#4\n",
      "Time 44: A2, G3\n",
      "Time 45: \n",
      "Time 46: E4, C#4, D3, F#3\n",
      "Time 47: D4, D4\n"
     ]
    }
   ],
   "source": [
    "import re\n",
    "import music21\n",
    "\n",
    "# Load a MusicXML file (replace 'your_music_score.xml' with the actual file path)\n",
    "score = music21.converter.parse('848.xml')\n",
    "\n",
    "# Initialize a list to store notes and rests at each point in time\n",
    "notes_and_rests_by_time = []\n",
    "notes_and_rests_by_time_ = []\n",
    "\n",
    "\n",
    "# Get all the notes, chords, and rests from the score\n",
    "all_notes = score.flat.getElementsByClass(music21.note.GeneralNote)\n",
    "\n",
    "# Create a dictionary to group elements by their starting offset\n",
    "elements_by_offset = {}\n",
    "\n",
    "# Iterate through the notes, chords, and rests and group them by offset\n",
    "for element in all_notes:\n",
    "    offset = element.offset\n",
    "    if offset not in elements_by_offset:\n",
    "        elements_by_offset[offset] = []\n",
    "    elements_by_offset[offset].append(element)\n",
    "\n",
    "# Sort the offsets in ascending order\n",
    "sorted_offsets = sorted(elements_by_offset.keys())\n",
    "\n",
    "notss = []\n",
    "\n",
    "# Iterate through the sorted offsets and collect notes and rests at each point in time\n",
    "for offset in sorted_offsets:\n",
    "    elements = elements_by_offset[offset]\n",
    "    notes_and_rests = []\n",
    "    nots=[]\n",
    "\n",
    "    for element in elements:\n",
    "        if isinstance(element, music21.note.Note):\n",
    "            pitch = element.pitch\n",
    "            parts = re.split(r'(\\d+)', str(pitch))\n",
    "            modified_item = ''.join(parts)\n",
    "            pitch = modified_item\n",
    "            notes_and_rests.append(f\"{pitch}\") # {element.duration.quarterLength}\n",
    "            nots.append(f\"{pitch} {element.duration.quarterLength}\")\n",
    "\n",
    "\n",
    "        elif isinstance(element, music21.chord.Chord):\n",
    "            for chord_note in element:\n",
    "                chord_pitch = chord_note.pitch\n",
    "                parts = re.split(r'(\\d+)', str(chord_pitch))\n",
    "                modified_item = ''.join(parts)\n",
    "                chord_pitch = modified_item\n",
    "                notes_and_rests.append(f\"{chord_pitch}\") # {chord_note.duration.quarterLength}\n",
    "                nots.append(f\"{chord_pitch} {chord_note.duration.quarterLength}\")\n",
    "\n",
    "        elif isinstance(element, music21.note.Rest):\n",
    "            pass\n",
    "            # notes_and_rests.append(f\"Rest Duration: {element.duration.quarterLength}\")\n",
    "\n",
    "    notes_and_rests_by_time.append(notes_and_rests)\n",
    "    notes_and_rests_by_time_.append(nots)\n",
    "    \n",
    "\n",
    "# Print the notes and rests grouped by time\n",
    "for i, notes_and_rests in enumerate(notes_and_rests_by_time):\n",
    "    print(f\"Time {i}: {', '.join(notes_and_rests)}\")\n"
   ]
  },
  {
   "cell_type": "code",
   "execution_count": 50,
   "metadata": {},
   "outputs": [
    {
     "name": "stdout",
     "output_type": "stream",
     "text": [
      "[['D4', 'F#4', 'D3', 'A3'], ['D4', 'F#4', 'A2', 'A3'], ['F#4', 'A4', 'A2', 'A3'], ['C#4', 'G4', 'E3', 'A3'], ['C#4', 'F#4', 'D#3', 'A3'], ['C#4', 'G4', 'E3', 'A3'], ['C#4', 'B4', 'A2', 'A3'], ['D4', 'A4', 'F#3', 'A3'], ['D4', 'G#4', 'F#3', 'A3'], ['D4', 'A4', 'F#2', 'A3'], ['D4', 'D5', 'B2', 'G3'], ['D5', 'E4', 'A2', 'A3'], ['C#5'], ['A4', 'D5', 'F#3', 'D4'], ['G4', 'B4', 'G3', 'D4'], ['D4', 'A4', 'F#3', 'A3'], ['D4', 'G4', 'E3', 'B3'], ['C#4', 'A4', 'A2', 'A3'], ['D4', 'F#4', 'D3', 'A3'], ['E4', 'G#4', 'D3', 'B3'], ['E4', 'A4', 'C#3', 'A3'], ['F#4', 'B4', 'D3', 'A3'], ['E4', 'C#5', 'E3', 'A3'], ['E3', 'G#3'], ['B4', 'D4'], ['A2', 'A3'], ['C#4', 'A4'], ['A3', 'A3'], ['A4', 'A4', 'A3', 'C#4'], ['G4', 'E5'], ['A2', 'C#4'], ['B2', 'D4'], ['G4', 'C#5'], ['F#4', 'A4', 'C#3', 'A3'], ['E4', 'G4', 'D3', 'A3'], ['D4', 'F#4', 'E3', 'A3'], ['C#4', 'G4', 'F#3', 'A3'], ['D4', 'A4', 'F#3', 'A3'], ['D4', 'D4', 'G3', 'B3'], ['D4', 'D4', 'G2', 'D3'], ['B3', 'G4', 'B4', 'G2', 'D#3'], ['B3', 'F#4', 'A4', 'G2', 'E3'], ['B3', 'E4', 'G4', 'A2', 'F#3'], ['A3', 'D4', 'F#4'], ['A2', 'G3'], [], ['E4', 'C#4', 'D3', 'F#3'], ['D4', 'D4']]\n",
      "[['D4 2.0', 'F#4 2.0', 'D3 2.0', 'A3 2.0'], ['D4 1.0', 'F#4 1.0', 'A2 1.0', 'A3 1.0'], ['F#4 1.0', 'A4 1.0', 'A2 1.0', 'A3 1.0'], ['C#4 1.5', 'G4 1.5', 'E3 1.5', 'A3 1.5'], ['C#4 0.5', 'F#4 0.5', 'D#3 0.5', 'A3 0.5'], ['C#4 1.0', 'G4 1.0', 'E3 1.0', 'A3 1.0'], ['C#4 1.0', 'B4 1.0', 'A2 1.0', 'A3 1.0'], ['D4 1.0', 'A4 1.0', 'F#3 1.0', 'A3 1.0'], ['D4 1.0', 'G#4 1.0', 'F#3 1.0', 'A3 1.0'], ['D4 1.0', 'A4 1.0', 'F#2 1.0', 'A3 1.0'], ['D4 1.0', 'D5 1.0', 'B2 1.0', 'G3 1.0'], ['D5 2.0', 'E4 3.0', 'A2 3.0', 'A3 3.0'], ['C#5 1.0'], ['A4 1.0', 'D5 1.0', 'F#3 1.0', 'D4 1.0'], ['G4 1.0', 'B4 1.0', 'G3 1.0', 'D4 1.0'], ['D4 1.0', 'A4 1.0', 'F#3 1.0', 'A3 1.0'], ['D4 1.0', 'G4 1.0', 'E3 1.0', 'B3 1.0'], ['C#4 1.0', 'A4 1.0', 'A2 1.0', 'A3 1.0'], ['D4 1.0', 'F#4 1.0', 'D3 1.0', 'A3 1.0'], ['E4 1.0', 'G#4 1.0', 'D3 1.0', 'B3 1.0'], ['E4 1.0', 'A4 1.0', 'C#3 1.0', 'A3 1.0'], ['F#4 1.0', 'B4 1.0', 'D3 1.0', 'A3 1.0'], ['E4 2.0', 'C#5 3.0', 'E3 2.0', 'A3 2.0'], ['E3 2.0', 'G#3 2.0'], ['B4 1.0', 'D4 2.0'], ['A2 3.0', 'A3 3.0'], ['C#4 3.0', 'A4 3.0'], ['A3 1.0', 'A3 1.0'], ['A4 1.0', 'A4 1.0', 'A3 1.5', 'C#4 1.5'], ['G4 1.5', 'E5 1.5'], ['A2 0.5', 'C#4 0.5'], ['B2 1.0', 'D4 1.0'], ['G4 0.5', 'C#5 0.5'], ['F#4 1.0', 'A4 1.0', 'C#3 1.0', 'A3 1.0'], ['E4 1.0', 'G4 1.0', 'D3 1.0', 'A3 1.0'], ['D4 1.0', 'F#4 1.0', 'E3 1.0', 'A3 1.0'], ['C#4 1.0', 'G4 1.0', 'F#3 1.0', 'A3 1.0'], ['D4 1.0', 'A4 1.0', 'F#3 1.0', 'A3 1.0'], ['D4 1.0', 'D4 1.0', 'G3 1.0', 'B3 1.0'], ['D4 1.0', 'D4 1.0', 'G2 1.0', 'D3 1.0'], ['B3 1.0', 'G4 1.0', 'B4 1.0', 'G2 1.0', 'D#3 1.0'], ['B3 1.0', 'F#4 1.0', 'A4 1.0', 'G2 1.0', 'E3 1.0'], ['B3 1.0', 'E4 1.0', 'G4 1.0', 'A2 2.0', 'F#3 2.0'], ['A3 2.0', 'D4 2.0', 'F#4 3.0'], ['A2 2.0', 'G3 2.0'], [], ['E4 1.0', 'C#4 2.0', 'D3 4.0', 'F#3 4.0'], ['D4 4.0', 'D4 4.0']]\n"
     ]
    }
   ],
   "source": [
    "print(notes_and_rests_by_time)\n",
    "print(notes_and_rests_by_time_)"
   ]
  },
  {
   "cell_type": "code",
   "execution_count": 63,
   "metadata": {},
   "outputs": [],
   "source": [
    "p = [['E-4 6.0'],['C4 1.0', 'E-4 6.0', 'A-2 1.0', 'A-3 3.0'], ['C4 1.0', 'C4 2.0', 'A-2 1.0', 'A-3 2.0'], ['E-4 1.0', 'C3 1.0']]\n",
    "p=notes_and_rests_by_time_\n",
    "t = []\n",
    "main = []\n",
    "data = p\n",
    "k=p\n",
    "\n",
    "##taking care of the .75\n",
    "heavy=[]\n",
    "# Check if the decimal ends with .75\n",
    "for r in k:\n",
    "    qw=[]\n",
    "    qe=[]\n",
    "    for u in r:\n",
    "        pitch, duration = u.split()\n",
    "        duration_float = float(duration)\n",
    "        if duration_float % 1 == 0.75:\n",
    "            # Subtract 0.25 from it\n",
    "            new_duration = duration_float - 0.25\n",
    "            qw.append(f\"{pitch} {new_duration:.1f}\")\n",
    "            qe.append(f\"{pitch} 0.25\")\n",
    "        else:\n",
    "            qw.append(u)\n",
    "    heavy.append(qw)\n",
    "    if qe:\n",
    "        heavy.append(qe)\n",
    "\n",
    "k=heavy\n",
    "\n",
    "# Create a new list to store the modified elements\n",
    "# Create a new list to store the modified elements\n",
    "new_k = []\n",
    "\n",
    "# Iterate through the sublists in 'k'\n",
    "for sublist_k in k:\n",
    "    modified_sublist = []\n",
    "    remaining_sublist = []\n",
    "    for element in sublist_k:\n",
    "        pitch, duration = element.split()  # Split the element into pitch and duration\n",
    "        duration_float = float(duration)  # Convert duration to a float\n",
    "        if duration_float > 1.0:\n",
    "            if duration_float % 1 == 0.5:\n",
    "                # If duration ends with '.5', subtract 0.5 and add '.0' to the duration\n",
    "                modified_duration = f\"{duration_float - 0.5:.1f}\"\n",
    "                modified_sublist.append(f\"{pitch} {modified_duration}\")\n",
    "                remaining_sublist.append(f\"{pitch} 0.5\")  # Add a new element with '0.5' duration\n",
    "            else:\n",
    "                # If duration is odd and greater than 1.0, subtract 1.0 and create a sublist for it\n",
    "                modified_duration = f\"{duration_float - 1.0:.1f}\"\n",
    "                modified_sublist.append(f\"{pitch} {modified_duration}\")\n",
    "                remaining_sublist.append(f\"{pitch} 1.0\")\n",
    "        else:\n",
    "            # Otherwise, keep the original element in the modified sublist\n",
    "            modified_sublist.append(element)\n",
    "    new_k.append(modified_sublist)\n",
    "    if remaining_sublist:\n",
    "        new_k.append(remaining_sublist)\n",
    "p=new_k\n",
    "\n",
    "for i in p:\n",
    "\n",
    "\n",
    "    if i:\n",
    "\n",
    "        # Calculate the minimum duration in the list\n",
    "        # print(i)\n",
    "        min_duration = min(float(note.split()[1]) for note in i)\n",
    "\n",
    "        # Create a new list with equal durations\n",
    "        equal_duration_list = [f\"{note.split()[0]} {min_duration}\" for note in i]\n",
    "        t.append(equal_duration_list)\n",
    "\n",
    "        # Create a remainder list with the original durations\n",
    "        remainder = [f\"{note.split()[0]} {float(note.split()[1]) - min_duration}\" for note in i if float(note.split()[1]) > min_duration]\n",
    "        if remainder:\n",
    "            # Extract the second items from each element\n",
    "            second_items = [float(note.split()[1]) for note in remainder]\n",
    "\n",
    "            # Check if all second items are the same\n",
    "            is_same_duration = all(item == second_items[0] for item in second_items)\n",
    "\n",
    "            if is_same_duration:\n",
    "                t.append(remainder)\n",
    "            else:\n",
    "                min_duration = min(float(note.split()[1]) for note in remainder) #leevel\n",
    "                # Create a new list with equal durations\n",
    "                equal_duration_list = [f\"{note.split()[0]} {min_duration}\" for note in remainder]\n",
    "                t.append(equal_duration_list)\n",
    "                # Create a remainder list with the original durations\n",
    "                remainder = [f\"{note.split()[0]} {float(note.split()[1]) - min_duration}\" for note in remainder if float(note.split()[1]) > min_duration]\n",
    "                # print(f'firstremain: {remainder}')\n",
    "                # Extract the second items from each element\n",
    "                if remainder:\n",
    "                    second_items = [float(note.split()[1]) for note in remainder]\n",
    "                    \n",
    "\n",
    "                    # Check if all second items are the same\n",
    "                    is_same_duration = all(item == second_items[0] for item in second_items)\n",
    "\n",
    "                    if is_same_duration:\n",
    "                        t.append(remainder)\n",
    "                    else:\n",
    "                        min_duration = min(float(note.split()[1]) for note in remainder)\n",
    "                        # Create a new list with equal durations\n",
    "                        equal_duration_list = [f\"{note.split()[0]} {min_duration}\" for note in remainder]\n",
    "                        t.append(equal_duration_list)\n",
    "                        ##\n",
    "                        remainder = [f\"{note.split()[0]} {float(note.split()[1]) - min_duration}\" for note in remainder if float(note.split()[1]) > min_duration]\n",
    "                        # Extract the second items from each element\n",
    "                        # print(f'remain: {remainder}')\n",
    "                        if remainder:\n",
    "                            second_items = [float(note.split()[1]) for note in remainder]\n",
    "\n",
    "                            # Check if all second items are the same\n",
    "                            is_same_duration = all(item == second_items[0] for item in second_items)\n",
    "\n",
    "                            if is_same_duration:\n",
    "                                print(remainder)\n",
    "                                t.append(remainder)\n",
    "\n",
    "                            else:\n",
    "                                min_duration = min(float(note.split()[1]) for note in remainder)\n",
    "                                # Create a new list with equal durations\n",
    "                                equal_duration_list = [f\"{note.split()[0]} {min_duration}\" for note in remainder]\n",
    "                                t.append(equal_duration_list)\n",
    "                                remainder = [f\"{note.split()[0]} {float(note.split()[1]) - min_duration}\" for note in remainder if float(note.split()[1]) > min_duration]\n",
    "\n",
    "                                if remainder:\n",
    "                                    second_items = [float(note.split()[1]) for note in remainder]\n",
    "\n",
    "                                    # Check if all second items are the same\n",
    "                                    is_same_duration = all(item == second_items[0] for item in second_items)\n",
    "\n",
    "                                    if is_same_duration:\n",
    "                                        t.append(remainder)\n",
    "                                    else:\n",
    "                                        min_duration = min(float(note.split()[1]) for note in remainder)\n",
    "                                        # Create a new list with equal durations\n",
    "                                        equal_duration_list = [f\"{note.split()[0]} {min_duration}\" for note in remainder]\n",
    "                                        t.append(equal_duration_list)\n",
    "\n",
    "\n",
    "\n",
    "    p = t\n",
    "new_p = []\n",
    "\n",
    "for f in p:\n",
    "    pp=[]\n",
    "    pl=[]\n",
    "    for y in f:\n",
    "        pitch, duration = y.split()\n",
    "        duration_float = float(duration)\n",
    "\n",
    "        if duration_float > 2.0 and duration_float % 2 == 1.0:\n",
    "            # If duration is greater than or equal to 1.0 and odd, subtract 1.0 from it\n",
    "            new_duration = duration_float - 1.0\n",
    "            pp.append(f\"{pitch} {new_duration:.1f}\")\n",
    "            pl.append(f\"{pitch} 1.0\")\n",
    "        else:\n",
    "            pp.append(y)\n",
    "    new_p.append(pp)\n",
    "    if pl:\n",
    "        new_p.append(pl)\n",
    "\n",
    "\n",
    "\n",
    "t=new_p\n",
    "\n"
   ]
  },
  {
   "cell_type": "code",
   "execution_count": 52,
   "metadata": {},
   "outputs": [
    {
     "data": {
      "text/plain": [
       "[['D4 1.0', 'F#4 1.0', 'D3 1.0', 'A3 1.0'],\n",
       " ['D4 1.0', 'F#4 1.0', 'D3 1.0', 'A3 1.0'],\n",
       " ['D4 1.0', 'F#4 1.0', 'A2 1.0', 'A3 1.0'],\n",
       " ['F#4 1.0', 'A4 1.0', 'A2 1.0', 'A3 1.0'],\n",
       " ['C#4 1.0', 'G4 1.0', 'E3 1.0', 'A3 1.0'],\n",
       " ['C#4 0.5', 'G4 0.5', 'E3 0.5', 'A3 0.5'],\n",
       " ['C#4 0.5', 'F#4 0.5', 'D#3 0.5', 'A3 0.5'],\n",
       " ['C#4 1.0', 'G4 1.0', 'E3 1.0', 'A3 1.0'],\n",
       " ['C#4 1.0', 'B4 1.0', 'A2 1.0', 'A3 1.0'],\n",
       " ['D4 1.0', 'A4 1.0', 'F#3 1.0', 'A3 1.0'],\n",
       " ['D4 1.0', 'G#4 1.0', 'F#3 1.0', 'A3 1.0'],\n",
       " ['D4 1.0', 'A4 1.0', 'F#2 1.0', 'A3 1.0'],\n",
       " ['D4 1.0', 'D5 1.0', 'B2 1.0', 'G3 1.0'],\n",
       " ['D5 1.0', 'E4 1.0', 'A2 1.0', 'A3 1.0'],\n",
       " ['E4 1.0', 'A2 1.0', 'A3 1.0'],\n",
       " ['D5 1.0', 'E4 1.0', 'A2 1.0', 'A3 1.0'],\n",
       " ['C#5 1.0'],\n",
       " ['A4 1.0', 'D5 1.0', 'F#3 1.0', 'D4 1.0'],\n",
       " ['G4 1.0', 'B4 1.0', 'G3 1.0', 'D4 1.0'],\n",
       " ['D4 1.0', 'A4 1.0', 'F#3 1.0', 'A3 1.0'],\n",
       " ['D4 1.0', 'G4 1.0', 'E3 1.0', 'B3 1.0'],\n",
       " ['C#4 1.0', 'A4 1.0', 'A2 1.0', 'A3 1.0'],\n",
       " ['D4 1.0', 'F#4 1.0', 'D3 1.0', 'A3 1.0'],\n",
       " ['E4 1.0', 'G#4 1.0', 'D3 1.0', 'B3 1.0'],\n",
       " ['E4 1.0', 'A4 1.0', 'C#3 1.0', 'A3 1.0'],\n",
       " ['F#4 1.0', 'B4 1.0', 'D3 1.0', 'A3 1.0'],\n",
       " ['E4 1.0', 'C#5 1.0', 'E3 1.0', 'A3 1.0'],\n",
       " ['C#5 1.0'],\n",
       " ['E4 1.0', 'C#5 1.0', 'E3 1.0', 'A3 1.0'],\n",
       " ['E3 1.0', 'G#3 1.0'],\n",
       " ['E3 1.0', 'G#3 1.0'],\n",
       " ['B4 1.0', 'D4 1.0'],\n",
       " ['D4 1.0'],\n",
       " ['A2 2.0', 'A3 2.0'],\n",
       " ['A2 1.0', 'A3 1.0'],\n",
       " ['C#4 2.0', 'A4 2.0'],\n",
       " ['C#4 1.0', 'A4 1.0'],\n",
       " ['A3 1.0', 'A3 1.0'],\n",
       " ['A4 1.0', 'A4 1.0', 'A3 1.0', 'C#4 1.0'],\n",
       " ['A3 0.5', 'C#4 0.5'],\n",
       " ['G4 1.0', 'E5 1.0'],\n",
       " ['G4 0.5', 'E5 0.5'],\n",
       " ['A2 0.5', 'C#4 0.5'],\n",
       " ['B2 1.0', 'D4 1.0'],\n",
       " ['G4 0.5', 'C#5 0.5'],\n",
       " ['F#4 1.0', 'A4 1.0', 'C#3 1.0', 'A3 1.0'],\n",
       " ['E4 1.0', 'G4 1.0', 'D3 1.0', 'A3 1.0'],\n",
       " ['D4 1.0', 'F#4 1.0', 'E3 1.0', 'A3 1.0'],\n",
       " ['C#4 1.0', 'G4 1.0', 'F#3 1.0', 'A3 1.0'],\n",
       " ['D4 1.0', 'A4 1.0', 'F#3 1.0', 'A3 1.0'],\n",
       " ['D4 1.0', 'D4 1.0', 'G3 1.0', 'B3 1.0'],\n",
       " ['D4 1.0', 'D4 1.0', 'G2 1.0', 'D3 1.0'],\n",
       " ['B3 1.0', 'G4 1.0', 'B4 1.0', 'G2 1.0', 'D#3 1.0'],\n",
       " ['B3 1.0', 'F#4 1.0', 'A4 1.0', 'G2 1.0', 'E3 1.0'],\n",
       " ['B3 1.0', 'E4 1.0', 'G4 1.0', 'A2 1.0', 'F#3 1.0'],\n",
       " ['A2 1.0', 'F#3 1.0'],\n",
       " ['A3 1.0', 'D4 1.0', 'F#4 1.0'],\n",
       " ['F#4 1.0'],\n",
       " ['A3 1.0', 'D4 1.0', 'F#4 1.0'],\n",
       " ['A2 1.0', 'G3 1.0'],\n",
       " ['A2 1.0', 'G3 1.0'],\n",
       " ['E4 1.0', 'C#4 1.0', 'D3 1.0', 'F#3 1.0'],\n",
       " ['D3 2.0', 'F#3 2.0'],\n",
       " ['C#4 1.0', 'D3 1.0', 'F#3 1.0'],\n",
       " ['D4 2.0', 'D4 2.0'],\n",
       " ['D4 1.0', 'D4 1.0'],\n",
       " ['D4 1.0', 'D4 1.0']]"
      ]
     },
     "execution_count": 52,
     "metadata": {},
     "output_type": "execute_result"
    }
   ],
   "source": [
    "t"
   ]
  },
  {
   "cell_type": "code",
   "execution_count": 53,
   "metadata": {},
   "outputs": [],
   "source": [
    "p = [['E-4 5.0', 'A-3 2.0'], ['E-4 3.0', 'D-4 5.0']]\n",
    "new_p = []\n",
    "\n",
    "for f in p:\n",
    "    pp=[]\n",
    "    pl=[]\n",
    "    for y in f:\n",
    "        pitch, duration = y.split()\n",
    "        duration_float = float(duration)\n",
    "\n",
    "        if duration_float >= 1.0 and duration_float % 2 == 1.0:\n",
    "            # If duration is greater than or equal to 1.0 and odd, subtract 1.0 from it\n",
    "            new_duration = duration_float - 1.0\n",
    "            pp.append(f\"{pitch} {new_duration:.1f}\")\n",
    "            pl.append(f\"{pitch} 1.0\")\n",
    "        else:\n",
    "            pp.append(y)\n",
    "    new_p.append(pp)\n",
    "    if pl:\n",
    "        new_p.append(pl)"
   ]
  },
  {
   "cell_type": "code",
   "execution_count": 54,
   "metadata": {},
   "outputs": [
    {
     "data": {
      "text/plain": [
       "[['E-4 4.0', 'A-3 2.0'],\n",
       " ['E-4 1.0'],\n",
       " ['E-4 2.0', 'D-4 4.0'],\n",
       " ['E-4 1.0', 'D-4 1.0']]"
      ]
     },
     "execution_count": 54,
     "metadata": {},
     "output_type": "execute_result"
    }
   ],
   "source": [
    "new_p"
   ]
  },
  {
   "cell_type": "code",
   "execution_count": null,
   "metadata": {},
   "outputs": [],
   "source": []
  },
  {
   "cell_type": "code",
   "execution_count": null,
   "metadata": {},
   "outputs": [],
   "source": []
  },
  {
   "cell_type": "code",
   "execution_count": null,
   "metadata": {},
   "outputs": [],
   "source": []
  },
  {
   "cell_type": "code",
   "execution_count": 55,
   "metadata": {},
   "outputs": [
    {
     "name": "stdout",
     "output_type": "stream",
     "text": [
      "[['E-4 5.0'], ['E-4 1.0'], ['C4 1.0', 'E-4 1.0', 'A-2 1.0', 'A-3 1.0'], ['E-4 1.0', 'A-3 1.0'], ['E-4 1.0', 'A-3 1.0'], ['E-4 2.0'], ['E-4 1.0'], ['C4 1.0', 'C4 1.0', 'A-2 1.0', 'A-3 1.0'], ['C4 1.0', 'A-3 1.0'], ['E-4 1.0', 'C3 1.0']]\n"
     ]
    }
   ],
   "source": [
    "k = [['E-4 6.0'],\n",
    " ['C4 1.0', 'E-4 1.0', 'A-2 1.0', 'A-3 1.0'],\n",
    " ['E-4 2.0', 'A-3 2.0'],\n",
    " ['E-4 3.0'],\n",
    " ['C4 1.0', 'C4 1.0', 'A-2 1.0', 'A-3 1.0'],\n",
    " ['C4 1.0', 'A-3 1.0'],\n",
    " ['E-4 1.0', 'C3 1.0']]\n",
    "\n",
    "# Create a new list to store the modified elements\n",
    "new_k = []\n",
    "\n",
    "# Iterate through the sublists in 'k'\n",
    "for sublist_k in k:\n",
    "    modified_sublist = []\n",
    "    remaining_sublist = []\n",
    "    for element in sublist_k:\n",
    "        # print(element)\n",
    "        pitch, duration = element.split()  # Split the element into pitch and duration\n",
    "        duration_float = float(duration)  # Convert duration to a float\n",
    "        if duration_float > 1.0:\n",
    "            if duration_float % 1 == 0.5:\n",
    "                # If duration ends with '.5', subtract 0.5 and add '.0' to the duration\n",
    "                modified_duration = f\"{duration_float - 0.5:.1f}\"\n",
    "                modified_sublist.append(f\"{pitch} {modified_duration}\")\n",
    "                remaining_sublist.append(f\"{pitch} 0.5\")  # Add a new element with '0.5' duration\n",
    "            else:\n",
    "                # If duration is odd and greater than 1.0, subtract 1.0 and create a sublist for it\n",
    "                modified_duration = f\"{duration_float - 1.0:.1f}\"\n",
    "                modified_sublist.append(f\"{pitch} {modified_duration}\")\n",
    "                remaining_sublist.append(f\"{pitch} 1.0\")\n",
    "        else:\n",
    "            # Otherwise, keep the original element in the modified sublist\n",
    "            modified_sublist.append(element)\n",
    "    new_k.append(modified_sublist)\n",
    "    if remaining_sublist:\n",
    "        new_k.append(remaining_sublist)\n",
    "\n",
    "print(new_k)\n"
   ]
  },
  {
   "cell_type": "code",
   "execution_count": null,
   "metadata": {},
   "outputs": [],
   "source": []
  },
  {
   "cell_type": "code",
   "execution_count": 56,
   "metadata": {},
   "outputs": [
    {
     "name": "stdout",
     "output_type": "stream",
     "text": [
      "[['E-4 6.0'], ['E-4 0.5'], ['A-2 0.0', 'A-3 3.0'], ['A-2 0.5']]\n"
     ]
    }
   ],
   "source": [
    "k = [['E-4 6.5'], ['A-2 0.5', 'A-3 3.0']]\n",
    "\n",
    "# Create a new list to store the modified elements\n",
    "new_k = []\n",
    "\n",
    "# Iterate through the sublists in 'k'\n",
    "for sublist_k in k:\n",
    "    modified_sublist = []\n",
    "    remaining_sublist = []\n",
    "    for element in sublist_k:\n",
    "        pitch, duration = element.split()  # Split the element into pitch and duration\n",
    "        duration_float = float(duration)  # Convert duration to a float\n",
    "        if duration_float % 1 == 0.5:\n",
    "            # If duration ends with '.5', subtract 0.5 and add '.0' to the duration\n",
    "            modified_duration = f\"{duration_float - 0.5:.1f}\"\n",
    "            modified_sublist.append(f\"{pitch} {modified_duration}\")\n",
    "            remaining_sublist.append(f\"{pitch} 0.5\")  # Add a new element with '0.5' duration\n",
    "        else:\n",
    "            # Otherwise, keep the original element in the modified sublist\n",
    "            modified_sublist.append(element)\n",
    "    new_k.append(modified_sublist)\n",
    "    if remaining_sublist:\n",
    "        new_k.append(remaining_sublist)\n",
    "\n",
    "print(new_k)\n"
   ]
  },
  {
   "cell_type": "code",
   "execution_count": 57,
   "metadata": {},
   "outputs": [
    {
     "name": "stdout",
     "output_type": "stream",
     "text": [
      "[['C4 1.0', 'E-4 6.0'], ['C4 0.5', 'E-4 0.5'], ['A-2 0.5', 'A-3 3.0'], ['A-3 0.5']]\n"
     ]
    }
   ],
   "source": [
    "k = [['C4 1.5', 'E-4 6.5'], ['A-2 0.5', 'A-3 3.5']]\n",
    "\n",
    "# Create a new list to store the modified elements\n",
    "new_k = []\n",
    "\n",
    "# Iterate through the sublists in 'k'\n",
    "for sublist_k in k:\n",
    "    modified_sublist = []\n",
    "    remaining_sublist = []\n",
    "    for element in sublist_k:\n",
    "        pitch, duration = element.split()  # Split the element into pitch and duration\n",
    "        duration_float = float(duration)  # Convert duration to a float\n",
    "        if duration_float > 1.0 and duration_float % 1 == 0.5:\n",
    "            # If duration is greater than 1.0 and ends with '.5', subtract 0.5 and add '.0' to the duration\n",
    "            modified_duration = f\"{duration_float - 0.5:.1f}\"\n",
    "            modified_sublist.append(f\"{pitch} {modified_duration}\")\n",
    "            remaining_sublist.append(f\"{pitch} 0.5\")  # Add a new element with '0.5' duration\n",
    "        else:\n",
    "            # Otherwise, keep the original element in the modified sublist\n",
    "            modified_sublist.append(element)\n",
    "    new_k.append(modified_sublist)\n",
    "    if remaining_sublist:\n",
    "        new_k.append(remaining_sublist)\n",
    "\n",
    "print(new_k)\n"
   ]
  },
  {
   "cell_type": "code",
   "execution_count": null,
   "metadata": {},
   "outputs": [],
   "source": []
  },
  {
   "cell_type": "code",
   "execution_count": null,
   "metadata": {},
   "outputs": [],
   "source": []
  },
  {
   "cell_type": "code",
   "execution_count": 58,
   "metadata": {},
   "outputs": [
    {
     "name": "stdout",
     "output_type": "stream",
     "text": [
      "[[1.0], [1.0], [1.0], [1.0], [1.0], [0.5], [0.5], [1.0], [1.0], [1.0], [1.0], [1.0], [1.0], [1.0], [1.0], [1.0], [1.0], [1.0], [1.0], [1.0], [1.0], [1.0], [1.0], [1.0], [1.0], [1.0], [1.0], [1.0], [1.0], [1.0], [1.0], [1.0], [1.0], [2.0], [1.0], [2.0], [1.0], [1.0], [1.0], [0.5], [1.0], [0.5], [0.5], [1.0], [0.5], [1.0], [1.0], [1.0], [1.0], [1.0], [1.0], [1.0], [1.0], [1.0], [1.0], [1.0], [1.0], [1.0], [1.0], [1.0], [1.0], [1.0], [2.0], [1.0], [2.0], [1.0], [1.0]]\n"
     ]
    }
   ],
   "source": [
    "data = t\n",
    "\n",
    "# Find the highest value of the second item in each sublist\n",
    "max_values = [max(float(note.split()[1]) for note in sublist) for sublist in data]\n",
    "\n",
    "# Modify 'data' to contain the highest values as sublists\n",
    "durate = [[max_value] for max_value in max_values]\n",
    "\n",
    "print(durate)\n"
   ]
  },
  {
   "cell_type": "code",
   "execution_count": 59,
   "metadata": {},
   "outputs": [
    {
     "name": "stdout",
     "output_type": "stream",
     "text": [
      "[['quarter'], ['quarter'], ['quarter'], ['quarter'], ['quarter'], ['eighth'], ['eighth'], ['quarter'], ['quarter'], ['quarter'], ['quarter'], ['quarter'], ['quarter'], ['quarter'], ['quarter'], ['quarter'], ['quarter'], ['quarter'], ['quarter'], ['quarter'], ['quarter'], ['quarter'], ['quarter'], ['quarter'], ['quarter'], ['quarter'], ['quarter'], ['quarter'], ['quarter'], ['quarter'], ['quarter'], ['quarter'], ['quarter'], ['half'], ['quarter'], ['half'], ['quarter'], ['quarter'], ['quarter'], ['eighth'], ['quarter'], ['eighth'], ['eighth'], ['quarter'], ['eighth'], ['quarter'], ['quarter'], ['quarter'], ['quarter'], ['quarter'], ['quarter'], ['quarter'], ['quarter'], ['quarter'], ['quarter'], ['quarter'], ['quarter'], ['quarter'], ['quarter'], ['quarter'], ['quarter'], ['quarter'], ['half'], ['quarter'], ['half'], ['quarter'], ['quarter']]\n"
     ]
    }
   ],
   "source": [
    "# Define the mapping of durations to names\n",
    "duration_names = {0.5: 'eighth',1.0: 'quarter',0.25: '16th', 2.0: 'half', 4.0: 'whole'}\n",
    "\n",
    "# Given list 'p'\n",
    "p = durate\n",
    "\n",
    "# Convert 'p' to their names\n",
    "durate = [[duration_names[d] for d in sublist] for sublist in p]\n",
    "\n",
    "print(durate)\n"
   ]
  },
  {
   "cell_type": "code",
   "execution_count": 60,
   "metadata": {},
   "outputs": [
    {
     "name": "stdout",
     "output_type": "stream",
     "text": [
      "[['D4', 'F#4', 'D3', 'A3'], ['D4', 'F#4', 'D3', 'A3'], ['D4', 'F#4', 'A2', 'A3'], ['F#4', 'A4', 'A2', 'A3'], ['C#4', 'G4', 'E3', 'A3'], ['C#4', 'G4', 'E3', 'A3'], ['C#4', 'F#4', 'D#3', 'A3'], ['C#4', 'G4', 'E3', 'A3'], ['C#4', 'B4', 'A2', 'A3'], ['D4', 'A4', 'F#3', 'A3'], ['D4', 'G#4', 'F#3', 'A3'], ['D4', 'A4', 'F#2', 'A3'], ['D4', 'D5', 'B2', 'G3'], ['D5', 'E4', 'A2', 'A3'], ['E4', 'A2', 'A3'], ['D5', 'E4', 'A2', 'A3'], ['C#5'], ['A4', 'D5', 'F#3', 'D4'], ['G4', 'B4', 'G3', 'D4'], ['D4', 'A4', 'F#3', 'A3'], ['D4', 'G4', 'E3', 'B3'], ['C#4', 'A4', 'A2', 'A3'], ['D4', 'F#4', 'D3', 'A3'], ['E4', 'G#4', 'D3', 'B3'], ['E4', 'A4', 'C#3', 'A3'], ['F#4', 'B4', 'D3', 'A3'], ['E4', 'C#5', 'E3', 'A3'], ['C#5'], ['E4', 'C#5', 'E3', 'A3'], ['E3', 'G#3'], ['E3', 'G#3'], ['B4', 'D4'], ['D4'], ['A2', 'A3'], ['A2', 'A3'], ['C#4', 'A4'], ['C#4', 'A4'], ['A3', 'A3'], ['A4', 'A4', 'A3', 'C#4'], ['A3', 'C#4'], ['G4', 'E5'], ['G4', 'E5'], ['A2', 'C#4'], ['B2', 'D4'], ['G4', 'C#5'], ['F#4', 'A4', 'C#3', 'A3'], ['E4', 'G4', 'D3', 'A3'], ['D4', 'F#4', 'E3', 'A3'], ['C#4', 'G4', 'F#3', 'A3'], ['D4', 'A4', 'F#3', 'A3'], ['D4', 'D4', 'G3', 'B3'], ['D4', 'D4', 'G2', 'D3'], ['B3', 'G4', 'B4', 'G2', 'D#3'], ['B3', 'F#4', 'A4', 'G2', 'E3'], ['B3', 'E4', 'G4', 'A2', 'F#3'], ['A2', 'F#3'], ['A3', 'D4', 'F#4'], ['F#4'], ['A3', 'D4', 'F#4'], ['A2', 'G3'], ['A2', 'G3'], ['E4', 'C#4', 'D3', 'F#3'], ['D3', 'F#3'], ['C#4', 'D3', 'F#3'], ['D4', 'D4'], ['D4', 'D4'], ['D4', 'D4']]\n"
     ]
    }
   ],
   "source": [
    "data = t\n",
    "\n",
    "# Remove the second items in each element in the sublists\n",
    "modified_data = [[note.split()[0] for note in sublist] for sublist in data]\n",
    "\n",
    "print(modified_data)\n"
   ]
  },
  {
   "cell_type": "code",
   "execution_count": 61,
   "metadata": {},
   "outputs": [
    {
     "data": {
      "text/html": [
       "\n",
       "                <div id=\"midiPlayerDiv4080\"></div>\n",
       "                <link rel=\"stylesheet\" href=\"https://cuthbertLab.github.io/music21j/css/m21.css\">\n",
       "                \n",
       "                <script>\n",
       "                require.config({\n",
       "                    paths: {\n",
       "                        'music21': 'https://cuthbertLab.github.io/music21j/releases/music21.debug',\n",
       "                    }\n",
       "                });\n",
       "                require(['music21'], function(music21) {\n",
       "                    mp = new music21.miditools.MidiPlayer();\n",
       "                    mp.addPlayer(\"#midiPlayerDiv4080\");\n",
       "                    mp.base64Load(\"data:audio/midi;base64,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\");\n",
       "                });\n",
       "                </script>"
      ],
      "text/plain": [
       "<IPython.core.display.HTML object>"
      ]
     },
     "metadata": {},
     "output_type": "display_data"
    }
   ],
   "source": [
    "from music21 import stream, note, chord, midi\n",
    "\n",
    "# Define the chords as lists of note names\n",
    "chords = modified_data\n",
    "\n",
    "# chords=notes_and_rests_by_time\n",
    "# Create a stream to store the notes\n",
    "music_stream = stream.Stream()\n",
    "\n",
    "# Iterate through the chord lists and add them to the stream\n",
    "for chord_notes in chords:\n",
    "    chord_obj = chord.Chord(chord_notes)\n",
    "    music_stream.append(chord_obj)\n",
    "\n",
    "music_stream.show('midi')\n"
   ]
  },
  {
   "cell_type": "code",
   "execution_count": null,
   "metadata": {},
   "outputs": [],
   "source": []
  },
  {
   "cell_type": "code",
   "execution_count": null,
   "metadata": {},
   "outputs": [],
   "source": []
  },
  {
   "cell_type": "markdown",
   "metadata": {},
   "source": []
  },
  {
   "cell_type": "code",
   "execution_count": 42,
   "metadata": {},
   "outputs": [
    {
     "data": {
      "text/html": [
       "\n",
       "                <div id=\"midiPlayerDiv3072\"></div>\n",
       "                <link rel=\"stylesheet\" href=\"https://cuthbertLab.github.io/music21j/css/m21.css\">\n",
       "                \n",
       "                <script>\n",
       "                require.config({\n",
       "                    paths: {\n",
       "                        'music21': 'https://cuthbertLab.github.io/music21j/releases/music21.debug',\n",
       "                    }\n",
       "                });\n",
       "                require(['music21'], function(music21) {\n",
       "                    mp = new music21.miditools.MidiPlayer();\n",
       "                    mp.addPlayer(\"#midiPlayerDiv3072\");\n",
       "                    mp.base64Load(\"data:audio/midi;base64,TVRoZAAAAAYAAQACBABNVHJrAAAAFAD/UQMHoSAA/1gEBAIYCIgA/y8ATVRyawAAAHEA/wMAAOAAQIgAkENaAJA7WgCQMloAkCtakACAQwAAgDsAAIAyAACAKwAAkENaAJA7WgCQMloAkCtahACAQwAAgDsAAIAyAACAKwAAkENaAJA7WgCQMloAkCtaiACAQwAAgDsAAIAyAACAKwCIAP8vAA==\");\n",
       "                });\n",
       "                </script>"
      ],
      "text/plain": [
       "<IPython.core.display.HTML object>"
      ]
     },
     "metadata": {},
     "output_type": "display_data"
    }
   ],
   "source": [
    "from music21 import stream, chord, midi\n",
    "\n",
    "# Define the chords as lists of note names\n",
    "chords = [['G4', 'B3', 'D3', 'G2'],\n",
    "          ['G4', 'B3', 'D3', 'G2'],\n",
    "          ['G4', 'B3', 'D3', 'G2']]\n",
    "\n",
    "# Create a stream to store the notes\n",
    "music_stream = stream.Stream()\n",
    "\n",
    "# Create a chord object for the first chord (2.0 duration)\n",
    "chord_0 = chord.Chord(chords[0])\n",
    "chord_0.duration.type = 'half'  # Set the duration to 2.0 (2 half notes)\n",
    "music_stream.append(chord_0)\n",
    "\n",
    "# Create a chord object for the second chord (0.5 duration)\n",
    "chord_1 = chord.Chord(chords[1])\n",
    "chord_1.duration.type = 'eighth'  # Set the duration to 0.5 (1 eighth note)\n",
    "music_stream.append(chord_1)\n",
    "\n",
    "# Create a chord object for the third chord (1.0 duration)\n",
    "chord_2 = chord.Chord(chords[2])\n",
    "chord_2.duration.type = 'quarter'  # Set the duration to 1.0 (1 quarter note)\n",
    "music_stream.append(chord_2)\n",
    "\n",
    "music_stream.show('midi')\n"
   ]
  },
  {
   "cell_type": "code",
   "execution_count": null,
   "metadata": {},
   "outputs": [],
   "source": []
  },
  {
   "cell_type": "code",
   "execution_count": 62,
   "metadata": {},
   "outputs": [
    {
     "data": {
      "text/html": [
       "\n",
       "                <div id=\"midiPlayerDiv4424\"></div>\n",
       "                <link rel=\"stylesheet\" href=\"https://cuthbertLab.github.io/music21j/css/m21.css\">\n",
       "                \n",
       "                <script>\n",
       "                require.config({\n",
       "                    paths: {\n",
       "                        'music21': 'https://cuthbertLab.github.io/music21j/releases/music21.debug',\n",
       "                    }\n",
       "                });\n",
       "                require(['music21'], function(music21) {\n",
       "                    mp = new music21.miditools.MidiPlayer();\n",
       "                    mp.addPlayer(\"#midiPlayerDiv4424\");\n",
       "                    mp.base64Load(\"data:audio/midi;base64,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\");\n",
       "                });\n",
       "                </script>"
      ],
      "text/plain": [
       "<IPython.core.display.HTML object>"
      ]
     },
     "metadata": {},
     "output_type": "display_data"
    }
   ],
   "source": [
    "from music21 import stream, chord, tempo\n",
    "\n",
    "# Define the chords as lists of note names\n",
    "chords = modified_data\n",
    "\n",
    "# Define the durations for each chord\n",
    "durations = durate\n",
    "# Create a stream to store the notes\n",
    "music_stream = stream.Stream()\n",
    "# music_stream.append(tempo.MetronomeMark(number=500))\n",
    "# Iterate through the chords and durations\n",
    "for i, chord_notes in enumerate(chords):\n",
    "    if i < len(durations):\n",
    "        chord_obj = chord.Chord(chord_notes)\n",
    "        chord_obj.duration.type = (durations[i])[0]\n",
    "        music_stream.append(chord_obj)\n",
    "    else:\n",
    "        print(f\"Warning: Not enough durations provided for chord {i + 1}. Skipping.\")\n",
    "\n",
    "music_stream.show('midi')\n"
   ]
  },
  {
   "cell_type": "code",
   "execution_count": null,
   "metadata": {},
   "outputs": [],
   "source": []
  },
  {
   "cell_type": "code",
   "execution_count": 17,
   "metadata": {},
   "outputs": [
    {
     "name": "stdout",
     "output_type": "stream",
     "text": [
      "The second items are the same in all elements.\n"
     ]
    }
   ],
   "source": [
    "p = ['C4 1.0']\n",
    "\n",
    "# Extract the second items from each element\n",
    "second_items = [float(note.split()[1]) for note in p]\n",
    "\n",
    "# Check if all second items are the same\n",
    "is_same_duration = all(item == second_items[0] for item in second_items)\n",
    "\n",
    "if is_same_duration:\n",
    "    print(\"The second items are the same in all elements.\")\n",
    "else:\n",
    "    print(\"The second items are not the same in all elements.\")\n"
   ]
  },
  {
   "cell_type": "code",
   "execution_count": null,
   "metadata": {},
   "outputs": [],
   "source": []
  },
  {
   "cell_type": "code",
   "execution_count": 18,
   "metadata": {},
   "outputs": [
    {
     "name": "stdout",
     "output_type": "stream",
     "text": [
      "'a' is an empty list\n"
     ]
    }
   ],
   "source": [
    "a = []  # Example list\n",
    "\n",
    "if a:\n",
    "    pass  # This block will be executed if 'a' is not empty\n",
    "else:\n",
    "    # This block will be executed if 'a' is empty\n",
    "    print(\"'a' is an empty list\")\n"
   ]
  },
  {
   "cell_type": "code",
   "execution_count": null,
   "metadata": {},
   "outputs": [],
   "source": []
  },
  {
   "cell_type": "code",
   "execution_count": null,
   "metadata": {},
   "outputs": [],
   "source": []
  },
  {
   "cell_type": "code",
   "execution_count": 19,
   "metadata": {},
   "outputs": [
    {
     "data": {
      "text/plain": [
       "[]"
      ]
     },
     "execution_count": 19,
     "metadata": {},
     "output_type": "execute_result"
    }
   ],
   "source": [
    "main"
   ]
  },
  {
   "cell_type": "code",
   "execution_count": 20,
   "metadata": {},
   "outputs": [
    {
     "name": "stdout",
     "output_type": "stream",
     "text": [
      "[['D4', 'F#4', 'D3', 'A3'], ['D4', 'F#4', 'A2', 'A3'], ['F#4', 'A4', 'A2', 'A3'], ['C#4', 'G4', 'E3', 'A3'], ['C#4', 'F#4', 'D#3', 'A3'], ['C#4', 'G4', 'E3', 'A3'], ['C#4', 'B4', 'A2', 'A3'], ['D4', 'A4', 'F#3', 'A3'], ['D4', 'G#4', 'F#3', 'A3'], ['D4', 'A4', 'F#2', 'A3'], ['D4', 'D5', 'B2', 'G3'], ['D5', 'E4', 'A2', 'A3'], ['C#5'], ['A4', 'D5', 'F#3', 'D4'], ['G4', 'B4', 'G3', 'D4'], ['D4', 'A4', 'F#3', 'A3'], ['D4', 'G4', 'E3', 'B3'], ['C#4', 'A4', 'A2', 'A3'], ['D4', 'F#4', 'D3', 'A3'], ['E4', 'G#4', 'D3', 'B3'], ['E4', 'A4', 'C#3', 'A3'], ['F#4', 'B4', 'D3', 'A3'], ['E4', 'C#5', 'E3', 'A3'], ['E3', 'G#3'], ['B4', 'D4'], ['A2', 'A3'], ['C#4', 'A4'], ['A3', 'A3'], ['A4', 'A4', 'A3', 'C#4'], ['G4', 'E5'], ['A2', 'C#4'], ['B2', 'D4'], ['G4', 'C#5'], ['F#4', 'A4', 'C#3', 'A3'], ['E4', 'G4', 'D3', 'A3'], ['D4', 'F#4', 'E3', 'A3'], ['C#4', 'G4', 'F#3', 'A3'], ['D4', 'A4', 'F#3', 'A3'], ['D4', 'D4', 'G3', 'B3'], ['D4', 'D4', 'G2', 'D3'], ['B3', 'G4', 'B4', 'G2', 'D#3'], ['B3', 'F#4', 'A4', 'G2', 'E3'], ['B3', 'E4', 'G4', 'A2', 'F#3'], ['A3', 'D4', 'F#4'], ['A2', 'G3'], [], ['E4', 'C#4', 'D3', 'F#3'], ['D4', 'D4']]\n"
     ]
    }
   ],
   "source": [
    "print(notes_and_rests_by_time)"
   ]
  },
  {
   "cell_type": "code",
   "execution_count": null,
   "metadata": {},
   "outputs": [],
   "source": []
  },
  {
   "cell_type": "code",
   "execution_count": null,
   "metadata": {},
   "outputs": [],
   "source": []
  },
  {
   "cell_type": "code",
   "execution_count": null,
   "metadata": {},
   "outputs": [],
   "source": []
  },
  {
   "cell_type": "code",
   "execution_count": 21,
   "metadata": {},
   "outputs": [],
   "source": [
    "from music21 import chord, key, stream, meter, tempo\n",
    "import time\n",
    "\n",
    "# Create a new stream to store the chord and associated settings\n",
    "\n",
    "\n",
    "# Create a chord with the specified notes\n",
    "notes = notes_and_rests_by_time #['G4', 'B3', 'D3', 'G2']\n",
    "notes = modified_data\n",
    "# Time 0: Note: G 4  Duration: 2.0, Note: B 3  Duration: 2.0, Note: D 3  Duration: 2.0, Note: G 2  Duration: 2.0\n",
    "for i in notes_and_rests_by_time:\n",
    "        chord_stream = stream.Stream()\n",
    "        # print(f\"this is i: {i}\")\n",
    "        my_chord = chord.Chord(i)\n",
    "\n",
    "        # Set the key to E flat major\n",
    "        my_key = key.Key('G')\n",
    "        chord_stream.append(my_key)\n",
    "\n",
    "        # Add the chord to the stream\n",
    "        chord_stream.append(my_chord)\n",
    "\n",
    "        # Set the time signature to 4/4\n",
    "        chord_stream.append(meter.TimeSignature('3/4'))\n",
    "\n",
    "        # Set the tempo (adjust as needed)\n",
    "        chord_stream.append(tempo.MetronomeMark('Allegro'))\n",
    "\n",
    "        # Play the chord for three counts\n",
    "        chord_stream.duration.quarterLength = 3.0\n",
    "\n",
    "\n",
    "        # Show and play the chord\n",
    "        # chord_stream.show('midi')\n",
    "        # time.sleep(2)\n"
   ]
  },
  {
   "cell_type": "code",
   "execution_count": 22,
   "metadata": {},
   "outputs": [
    {
     "data": {
      "text/html": [
       "\n",
       "                <div id=\"midiPlayerDiv1981\"></div>\n",
       "                <link rel=\"stylesheet\" href=\"https://cuthbertLab.github.io/music21j/css/m21.css\">\n",
       "                \n",
       "                <script>\n",
       "                require.config({\n",
       "                    paths: {\n",
       "                        'music21': 'https://cuthbertLab.github.io/music21j/releases/music21.debug',\n",
       "                    }\n",
       "                });\n",
       "                require(['music21'], function(music21) {\n",
       "                    mp = new music21.miditools.MidiPlayer();\n",
       "                    mp.addPlayer(\"#midiPlayerDiv1981\");\n",
       "                    mp.base64Load(\"data:audio/midi;base64,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\");\n",
       "                });\n",
       "                </script>"
      ],
      "text/plain": [
       "<IPython.core.display.HTML object>"
      ]
     },
     "metadata": {},
     "output_type": "display_data"
    }
   ],
   "source": [
    "from music21 import stream, note, chord, midi\n",
    "\n",
    "# Define the chords as lists of note names\n",
    "chords = modified_data\n",
    "\n",
    "# chords=notes_and_rests_by_time\n",
    "# Create a stream to store the notes\n",
    "music_stream = stream.Stream()\n",
    "\n",
    "# Iterate through the chord lists and add them to the stream\n",
    "for chord_notes in chords:\n",
    "    chord_obj = chord.Chord(chord_notes)\n",
    "    music_stream.append(chord_obj)\n",
    "\n",
    "music_stream.show('midi')\n"
   ]
  },
  {
   "cell_type": "code",
   "execution_count": null,
   "metadata": {},
   "outputs": [],
   "source": []
  },
  {
   "cell_type": "code",
   "execution_count": 70,
   "metadata": {},
   "outputs": [
    {
     "ename": "TypeError",
     "evalue": "int() argument must be a string, a bytes-like object or a number, not 'list'",
     "output_type": "error",
     "traceback": [
      "\u001b[1;31m---------------------------------------------------------------------------\u001b[0m",
      "\u001b[1;31mTypeError\u001b[0m                                 Traceback (most recent call last)",
      "\u001b[1;32mc:\\Users\\KOFI ADUKPO\\Desktop\\code\\aseda\\tries\\dvv.ipynb Cell 40\u001b[0m line \u001b[0;36m1\n\u001b[0;32m     <a href='vscode-notebook-cell:/c%3A/Users/KOFI%20ADUKPO/Desktop/code/aseda/tries/dvv.ipynb#X53sZmlsZQ%3D%3D?line=9'>10</a>\u001b[0m music_stream\u001b[39m.\u001b[39mappend(tempo_obj)\n\u001b[0;32m     <a href='vscode-notebook-cell:/c%3A/Users/KOFI%20ADUKPO/Desktop/code/aseda/tries/dvv.ipynb#X53sZmlsZQ%3D%3D?line=10'>11</a>\u001b[0m \u001b[39mfor\u001b[39;00m note_name \u001b[39min\u001b[39;00m notes:\n\u001b[1;32m---> <a href='vscode-notebook-cell:/c%3A/Users/KOFI%20ADUKPO/Desktop/code/aseda/tries/dvv.ipynb#X53sZmlsZQ%3D%3D?line=11'>12</a>\u001b[0m     n \u001b[39m=\u001b[39m note\u001b[39m.\u001b[39;49mNote(note_name)\n\u001b[0;32m     <a href='vscode-notebook-cell:/c%3A/Users/KOFI%20ADUKPO/Desktop/code/aseda/tries/dvv.ipynb#X53sZmlsZQ%3D%3D?line=12'>13</a>\u001b[0m     music_stream\u001b[39m.\u001b[39mappend(n)\n\u001b[0;32m     <a href='vscode-notebook-cell:/c%3A/Users/KOFI%20ADUKPO/Desktop/code/aseda/tries/dvv.ipynb#X53sZmlsZQ%3D%3D?line=13'>14</a>\u001b[0m \u001b[39m# Set the tempo to a higher value for faster playback\u001b[39;00m\n\u001b[0;32m     <a href='vscode-notebook-cell:/c%3A/Users/KOFI%20ADUKPO/Desktop/code/aseda/tries/dvv.ipynb#X53sZmlsZQ%3D%3D?line=14'>15</a>\u001b[0m \n\u001b[0;32m     <a href='vscode-notebook-cell:/c%3A/Users/KOFI%20ADUKPO/Desktop/code/aseda/tries/dvv.ipynb#X53sZmlsZQ%3D%3D?line=15'>16</a>\u001b[0m \u001b[39m# Show the music notes while playing in MIDI format and write the notes being played\u001b[39;00m\n",
      "File \u001b[1;32mc:\\Users\\KOFI ADUKPO\\Desktop\\code\\aenv\\lib\\site-packages\\music21\\note.py:1471\u001b[0m, in \u001b[0;36mNote.__init__\u001b[1;34m(self, pitch, name, nameWithOctave, **keywords)\u001b[0m\n\u001b[0;32m   1469\u001b[0m         \u001b[39mself\u001b[39m\u001b[39m.\u001b[39mpitch \u001b[39m=\u001b[39m pitch\n\u001b[0;32m   1470\u001b[0m     \u001b[39melse\u001b[39;00m:  \u001b[39m# assume first argument is pitch\u001b[39;00m\n\u001b[1;32m-> 1471\u001b[0m         \u001b[39mself\u001b[39m\u001b[39m.\u001b[39mpitch \u001b[39m=\u001b[39m Pitch(pitch, \u001b[39m*\u001b[39m\u001b[39m*\u001b[39mkeywords)\n\u001b[0;32m   1472\u001b[0m \u001b[39melse\u001b[39;00m:  \u001b[39m# supply a default pitch\u001b[39;00m\n\u001b[0;32m   1473\u001b[0m     \u001b[39mif\u001b[39;00m nameWithOctave \u001b[39mis\u001b[39;00m \u001b[39mnot\u001b[39;00m \u001b[39mNone\u001b[39;00m:\n",
      "File \u001b[1;32mc:\\Users\\KOFI ADUKPO\\Desktop\\code\\aenv\\lib\\site-packages\\music21\\pitch.py:1852\u001b[0m, in \u001b[0;36mPitch.__init__\u001b[1;34m(self, name, step, octave, accidental, microtone, pitchClass, midi, ps, fundamental, **keywords)\u001b[0m\n\u001b[0;32m   1848\u001b[0m     \u001b[39mself\u001b[39m\u001b[39m.\u001b[39mname \u001b[39m=\u001b[39m name  \u001b[39m# set based on string\u001b[39;00m\n\u001b[0;32m   1849\u001b[0m \u001b[39melse\u001b[39;00m:  \u001b[39m# is a number\u001b[39;00m\n\u001b[0;32m   1850\u001b[0m     \u001b[39m# is a midiNumber or a ps -- a float midiNumber\u001b[39;00m\n\u001b[0;32m   1851\u001b[0m     \u001b[39m# get step and accidental w/o octave\u001b[39;00m\n\u001b[1;32m-> 1852\u001b[0m     \u001b[39mself\u001b[39m\u001b[39m.\u001b[39mstep, \u001b[39mself\u001b[39m\u001b[39m.\u001b[39m_accidental \u001b[39m=\u001b[39m _convertPsToStep(name)[\u001b[39m0\u001b[39m:\u001b[39m2\u001b[39m]\n\u001b[0;32m   1853\u001b[0m     \u001b[39mself\u001b[39m\u001b[39m.\u001b[39mspellingIsInferred \u001b[39m=\u001b[39m \u001b[39mTrue\u001b[39;00m\n\u001b[0;32m   1854\u001b[0m     \u001b[39mif\u001b[39;00m name \u001b[39m>\u001b[39m\u001b[39m=\u001b[39m \u001b[39m12\u001b[39m:  \u001b[39m# is not a pitchClass\u001b[39;00m\n",
      "File \u001b[1;32mc:\\Users\\KOFI ADUKPO\\Desktop\\code\\aenv\\lib\\site-packages\\music21\\pitch.py:282\u001b[0m, in \u001b[0;36m_convertPsToStep\u001b[1;34m(ps)\u001b[0m\n\u001b[0;32m    280\u001b[0m     alter \u001b[39m=\u001b[39m \u001b[39m0.0\u001b[39m\n\u001b[0;32m    281\u001b[0m     micro \u001b[39m=\u001b[39m \u001b[39m0.0\u001b[39m\n\u001b[1;32m--> 282\u001b[0m \u001b[39melif\u001b[39;00m ps \u001b[39m==\u001b[39m \u001b[39mint\u001b[39;49m(ps):\n\u001b[0;32m    283\u001b[0m     pc \u001b[39m=\u001b[39m \u001b[39mint\u001b[39m(ps) \u001b[39m%\u001b[39m \u001b[39m12\u001b[39m\n\u001b[0;32m    284\u001b[0m     alter \u001b[39m=\u001b[39m \u001b[39m0.0\u001b[39m\n",
      "\u001b[1;31mTypeError\u001b[0m: int() argument must be a string, a bytes-like object or a number, not 'list'"
     ]
    }
   ],
   "source": [
    "from music21 import stream, note, tempo\n",
    "\n",
    "# Create a music stream\n",
    "music_stream = stream.Stream()\n",
    "\n",
    "# Create some notes\n",
    "notes = ['C4', 'E4', 'G4', 'C5']\n",
    "\n",
    "tempo_obj = tempo.MetronomeMark(number=5)  # Adjust the number to your desired tempo\n",
    "music_stream.append(tempo_obj)\n",
    "for note_name in notes:\n",
    "    n = note.Note(note_name)\n",
    "    music_stream.append(n)\n",
    "# Set the tempo to a higher value for faster playback\n",
    "\n",
    "# Show the music notes while playing in MIDI format and write the notes being played\n",
    "music_stream.show('midi', app='text')\n"
   ]
  },
  {
   "cell_type": "code",
   "execution_count": null,
   "metadata": {},
   "outputs": [],
   "source": []
  },
  {
   "cell_type": "code",
   "execution_count": 47,
   "metadata": {},
   "outputs": [
    {
     "data": {
      "text/html": [
       "\n",
       "                <div id=\"midiPlayerDiv3168\"></div>\n",
       "                <link rel=\"stylesheet\" href=\"https://cuthbertLab.github.io/music21j/css/m21.css\">\n",
       "                \n",
       "                <script>\n",
       "                require.config({\n",
       "                    paths: {\n",
       "                        'music21': 'https://cuthbertLab.github.io/music21j/releases/music21.debug',\n",
       "                    }\n",
       "                });\n",
       "                require(['music21'], function(music21) {\n",
       "                    mp = new music21.miditools.MidiPlayer();\n",
       "                    mp.addPlayer(\"#midiPlayerDiv3168\");\n",
       "                    mp.base64Load(\"data:audio/midi;base64,TVRoZAAAAAYAAQACBABNVHJrAAAAFQD/WAQEAhgIoAD/UQMHoSCIAP8vAE1UcmsAAAAyAP8DAADgAECIAJA8WogAgDwAAJBAWogAgEAAAJBDWogAgEMAAJBIWogAgEgAiAD/LwA=\");\n",
       "                });\n",
       "                </script>"
      ],
      "text/plain": [
       "<IPython.core.display.HTML object>"
      ]
     },
     "metadata": {},
     "output_type": "display_data"
    }
   ],
   "source": [
    "# Fetch the list of notes (you can retrieve it from the database if you're using a model)\n",
    "notes = ['C4', 'E4', 'G4', 'C5']\n",
    "\n",
    "# Create a music stream\n",
    "music_stream = stream.Stream()\n",
    "\n",
    "# Generate note objects and add them to the stream\n",
    "for note_name in notes:\n",
    "    n = note.Note(note_name)\n",
    "    music_stream.append(n)\n",
    "\n",
    "# Set the tempo for the music\n",
    "music_stream.append(tempo.MetronomeMark(number=120))\n",
    "\n",
    "# Play the music when the form is submitted\n",
    "music_stream.show('midi')\n",
    "\n"
   ]
  },
  {
   "cell_type": "code",
   "execution_count": null,
   "metadata": {},
   "outputs": [],
   "source": []
  },
  {
   "cell_type": "code",
   "execution_count": 69,
   "metadata": {},
   "outputs": [
    {
     "data": {
      "text/html": [
       "\n",
       "                <div id=\"midiPlayerDiv1721\"></div>\n",
       "                <link rel=\"stylesheet\" href=\"https://cuthbertLab.github.io/music21j/css/m21.css\">\n",
       "                \n",
       "                <script>\n",
       "                require.config({\n",
       "                    paths: {\n",
       "                        'music21': 'https://cuthbertLab.github.io/music21j/releases/music21.debug',\n",
       "                    }\n",
       "                });\n",
       "                require(['music21'], function(music21) {\n",
       "                    mp = new music21.miditools.MidiPlayer();\n",
       "                    mp.addPlayer(\"#midiPlayerDiv1721\");\n",
       "                    mp.base64Load(\"data:audio/midi;base64,TVRoZAAAAAYAAQACBABNVHJrAAAAFAD/UQMHoSAA/1gEBAIYCIgA/y8ATVRyawAAAHEA/wMAAOAAQIgAkENaAJA7WgCQMloAkCtakACAQwAAgDsAAIAyAACAKwAAkENaAJA7WgCQMloAkCtahACAQwAAgDsAAIAyAACAKwAAkENaAJA7WgCQMloAkCtaiACAQwAAgDsAAIAyAACAKwCIAP8vAA==\");\n",
       "                });\n",
       "                </script>"
      ],
      "text/plain": [
       "<IPython.core.display.HTML object>"
      ]
     },
     "metadata": {},
     "output_type": "display_data"
    }
   ],
   "source": [
    "from music21 import stream, chord, midi\n",
    "\n",
    "# Define the chords as lists of note names\n",
    "chords = [['G4', 'B3', 'D3', 'G2'],\n",
    "          ['G4', 'B3', 'D3', 'G2'],\n",
    "          ['G4', 'B3', 'D3', 'G2']]\n",
    "\n",
    "# Create a stream to store the notes\n",
    "music_stream = stream.Stream()\n",
    "\n",
    "# Create a chord object for the first chord (2.0 duration)\n",
    "chord_0 = chord.Chord(chords[0])\n",
    "chord_0.duration.type = 'half'  # Set the duration to 2.0 (2 half notes)\n",
    "music_stream.append(chord_0)\n",
    "\n",
    "# Create a chord object for the second chord (0.5 duration)\n",
    "chord_1 = chord.Chord(chords[1])\n",
    "chord_1.duration.type = 'eighth'  # Set the duration to 0.5 (1 eighth note)\n",
    "music_stream.append(chord_1)\n",
    "\n",
    "# Create a chord object for the third chord (1.0 duration)\n",
    "chord_2 = chord.Chord(chords[2])\n",
    "chord_2.duration.type = 'quarter'  # Set the duration to 1.0 (1 quarter note)\n",
    "music_stream.append(chord_2)\n",
    "\n",
    "# # Create a MIDI file from the stream\n",
    "# midi_file = music_stream.write('midi')\n",
    "\n",
    "# # Create a StreamPlayer and play the MIDI file\n",
    "# player = midi.realtime.StreamPlayer(midi_file)\n",
    "# player.play()\n",
    "\n",
    "music_stream.show('midi')\n"
   ]
  },
  {
   "cell_type": "code",
   "execution_count": 70,
   "metadata": {},
   "outputs": [
    {
     "name": "stdout",
     "output_type": "stream",
     "text": [
      "[['quarter'], ['half'], ['whole']]\n"
     ]
    }
   ],
   "source": [
    "# Define the mapping of durations to names\n",
    "duration_names = {1.0: 'quarter', 2.0: 'half', 4.0: 'whole'}\n",
    "\n",
    "# Given list 'p'\n",
    "p = [[1.0], [2.0], [4.0]]\n",
    "\n",
    "# Convert 'p' to their names\n",
    "p_names = [[duration_names[d] for d in sublist] for sublist in p]\n",
    "\n",
    "print(p_names)\n"
   ]
  },
  {
   "cell_type": "code",
   "execution_count": null,
   "metadata": {},
   "outputs": [],
   "source": []
  },
  {
   "cell_type": "code",
   "execution_count": null,
   "metadata": {},
   "outputs": [],
   "source": []
  },
  {
   "cell_type": "code",
   "execution_count": 73,
   "metadata": {},
   "outputs": [
    {
     "data": {
      "text/html": [
       "\n",
       "                <div id=\"midiPlayerDiv4689\"></div>\n",
       "                <link rel=\"stylesheet\" href=\"https://cuthbertLab.github.io/music21j/css/m21.css\">\n",
       "                \n",
       "                <script>\n",
       "                require.config({\n",
       "                    paths: {\n",
       "                        'music21': 'https://cuthbertLab.github.io/music21j/releases/music21.debug',\n",
       "                    }\n",
       "                });\n",
       "                require(['music21'], function(music21) {\n",
       "                    mp = new music21.miditools.MidiPlayer();\n",
       "                    mp.addPlayer(\"#midiPlayerDiv4689\");\n",
       "                    mp.base64Load(\"data:audio/midi;base64,TVRoZAAAAAYAAQACBABNVHJrAAAAFAD/UQMHoSAA/1gEBAIYCIgA/y8ATVRyawAAAHEA/wMAAOAAQIgAkENaAJA7WgCQMloAkCtakACAQwAAgDsAAIAyAACAKwAAkENaAJA7WgCQMloAkCtaiACAQwAAgDsAAIAyAACAKwAAkENaAJA7WgCQMloAkCtaiACAQwAAgDsAAIAyAACAKwCIAP8vAA==\");\n",
       "                });\n",
       "                </script>"
      ],
      "text/plain": [
       "<IPython.core.display.HTML object>"
      ]
     },
     "metadata": {},
     "output_type": "display_data"
    }
   ],
   "source": [
    "from music21 import stream, chord, tempo\n",
    "modified_data=[['G4', 'B3', 'F3', 'G2'],\n",
    "          ['G4', 'B3', 'D3', 'G2'],\n",
    "          ['G4', 'B3', 'D3', 'E2']]\n",
    "durate = [['half'], ['quarter'], ['quarter']]\n",
    "# Define the chords as lists of note names\n",
    "chords = modified_data\n",
    "\n",
    "# Define the durations for each chord\n",
    "durations = durate\n",
    "# Create a stream to store the notes\n",
    "music_stream = stream.Stream()\n",
    "# music_stream.append(tempo.MetronomeMark(number=500))\n",
    "# Iterate through the chords and durations\n",
    "for i, chord_notes in enumerate(chords):\n",
    "    if i < len(durations):\n",
    "        chord_obj = chord.Chord(chord_notes)\n",
    "        chord_obj.duration.type = (durations[i])[0]\n",
    "        music_stream.append(chord_obj)\n",
    "    else:\n",
    "        print(f\"Warning: Not enough durations provided for chord {i + 1}. Skipping.\")\n",
    "\n",
    "music_stream.show('midi')\n"
   ]
  },
  {
   "cell_type": "code",
   "execution_count": null,
   "metadata": {},
   "outputs": [],
   "source": []
  },
  {
   "cell_type": "code",
   "execution_count": null,
   "metadata": {},
   "outputs": [],
   "source": []
  }
 ],
 "metadata": {
  "kernelspec": {
   "display_name": "tenv",
   "language": "python",
   "name": "python3"
  },
  "language_info": {
   "codemirror_mode": {
    "name": "ipython",
    "version": 3
   },
   "file_extension": ".py",
   "mimetype": "text/x-python",
   "name": "python",
   "nbconvert_exporter": "python",
   "pygments_lexer": "ipython3",
   "version": "3.9.13"
  },
  "orig_nbformat": 4
 },
 "nbformat": 4,
 "nbformat_minor": 2
}
