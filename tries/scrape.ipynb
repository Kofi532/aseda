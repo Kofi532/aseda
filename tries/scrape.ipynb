{
 "cells": [
  {
   "cell_type": "code",
   "execution_count": 4,
   "metadata": {},
   "outputs": [
    {
     "ename": "AttributeError",
     "evalue": "'str' object has no attribute 'capabilities'",
     "output_type": "error",
     "traceback": [
      "\u001b[1;31m---------------------------------------------------------------------------\u001b[0m",
      "\u001b[1;31mAttributeError\u001b[0m                            Traceback (most recent call last)",
      "File \u001b[1;32mc:\\Users\\KOFI ADUKPO\\Desktop\\code\\aenv\\lib\\site-packages\\selenium\\webdriver\\common\\driver_finder.py:38\u001b[0m, in \u001b[0;36mDriverFinder.get_path\u001b[1;34m(service, options)\u001b[0m\n\u001b[0;32m     37\u001b[0m \u001b[39mtry\u001b[39;00m:\n\u001b[1;32m---> 38\u001b[0m     path \u001b[39m=\u001b[39m SeleniumManager()\u001b[39m.\u001b[39;49mdriver_location(options) \u001b[39mif\u001b[39;00m path \u001b[39mis\u001b[39;00m \u001b[39mNone\u001b[39;00m \u001b[39melse\u001b[39;00m path\n\u001b[0;32m     39\u001b[0m \u001b[39mexcept\u001b[39;00m \u001b[39mException\u001b[39;00m \u001b[39mas\u001b[39;00m err:\n",
      "File \u001b[1;32mc:\\Users\\KOFI ADUKPO\\Desktop\\code\\aenv\\lib\\site-packages\\selenium\\webdriver\\common\\selenium_manager.py:79\u001b[0m, in \u001b[0;36mSeleniumManager.driver_location\u001b[1;34m(self, options)\u001b[0m\n\u001b[0;32m     72\u001b[0m \u001b[39m\u001b[39m\u001b[39m\"\"\"Determines the path of the correct driver.\u001b[39;00m\n\u001b[0;32m     73\u001b[0m \n\u001b[0;32m     74\u001b[0m \u001b[39m:Args:\u001b[39;00m\n\u001b[0;32m     75\u001b[0m \u001b[39m - browser: which browser to get the driver path for.\u001b[39;00m\n\u001b[0;32m     76\u001b[0m \u001b[39m:Returns: The driver path to use\u001b[39;00m\n\u001b[0;32m     77\u001b[0m \u001b[39m\"\"\"\u001b[39;00m\n\u001b[1;32m---> 79\u001b[0m browser \u001b[39m=\u001b[39m options\u001b[39m.\u001b[39;49mcapabilities[\u001b[39m\"\u001b[39m\u001b[39mbrowserName\u001b[39m\u001b[39m\"\u001b[39m]\n\u001b[0;32m     81\u001b[0m args \u001b[39m=\u001b[39m [\u001b[39mstr\u001b[39m(\u001b[39mself\u001b[39m\u001b[39m.\u001b[39mget_binary()), \u001b[39m\"\u001b[39m\u001b[39m--browser\u001b[39m\u001b[39m\"\u001b[39m, browser]\n",
      "\u001b[1;31mAttributeError\u001b[0m: 'str' object has no attribute 'capabilities'",
      "\nDuring handling of the above exception, another exception occurred:\n",
      "\u001b[1;31mAttributeError\u001b[0m                            Traceback (most recent call last)",
      "\u001b[1;32mc:\\Users\\KOFI ADUKPO\\Desktop\\code\\aseda\\tries\\scrape.ipynb Cell 1\u001b[0m line \u001b[0;36m5\n\u001b[0;32m      <a href='vscode-notebook-cell:/c%3A/Users/KOFI%20ADUKPO/Desktop/code/aseda/tries/scrape.ipynb#W0sZmlsZQ%3D%3D?line=0'>1</a>\u001b[0m \u001b[39mfrom\u001b[39;00m \u001b[39mselenium\u001b[39;00m \u001b[39mimport\u001b[39;00m webdriver\n\u001b[0;32m      <a href='vscode-notebook-cell:/c%3A/Users/KOFI%20ADUKPO/Desktop/code/aseda/tries/scrape.ipynb#W0sZmlsZQ%3D%3D?line=2'>3</a>\u001b[0m \u001b[39m# Replace with the path to your webdriver (e.g., chromedriver.exe)\u001b[39;00m\n\u001b[0;32m      <a href='vscode-notebook-cell:/c%3A/Users/KOFI%20ADUKPO/Desktop/code/aseda/tries/scrape.ipynb#W0sZmlsZQ%3D%3D?line=3'>4</a>\u001b[0m \u001b[39m# Make sure you have the corresponding driver installed and updated.\u001b[39;00m\n\u001b[1;32m----> <a href='vscode-notebook-cell:/c%3A/Users/KOFI%20ADUKPO/Desktop/code/aseda/tries/scrape.ipynb#W0sZmlsZQ%3D%3D?line=4'>5</a>\u001b[0m driver \u001b[39m=\u001b[39m webdriver\u001b[39m.\u001b[39;49mChrome(\u001b[39m'\u001b[39;49m\u001b[39mC:\u001b[39;49m\u001b[39m\\\\\u001b[39;49;00m\u001b[39mUsers\u001b[39;49m\u001b[39m\\\\\u001b[39;49;00m\u001b[39mKOFI ADUKPO\u001b[39;49m\u001b[39m\\\\\u001b[39;49;00m\u001b[39mDownloads\u001b[39;49m\u001b[39m\\\\\u001b[39;49;00m\u001b[39mchromedriver.exe\u001b[39;49m\u001b[39m'\u001b[39;49m)\n\u001b[0;32m      <a href='vscode-notebook-cell:/c%3A/Users/KOFI%20ADUKPO/Desktop/code/aseda/tries/scrape.ipynb#W0sZmlsZQ%3D%3D?line=6'>7</a>\u001b[0m \u001b[39m#\"C:\\Users\\KOFI ADUKPO\\Downloads\\dav_visualize.docx\"\u001b[39;00m\n\u001b[0;32m      <a href='vscode-notebook-cell:/c%3A/Users/KOFI%20ADUKPO/Desktop/code/aseda/tries/scrape.ipynb#W0sZmlsZQ%3D%3D?line=7'>8</a>\u001b[0m \u001b[39m# Replace this URL with the website containing the table you want to scrape\u001b[39;00m\n\u001b[0;32m      <a href='vscode-notebook-cell:/c%3A/Users/KOFI%20ADUKPO/Desktop/code/aseda/tries/scrape.ipynb#W0sZmlsZQ%3D%3D?line=8'>9</a>\u001b[0m url \u001b[39m=\u001b[39m \u001b[39m\"\u001b[39m\u001b[39mhttps://hymnary.org/hymnal/Meth1933?page=0\u001b[39m\u001b[39m\"\u001b[39m\n",
      "File \u001b[1;32mc:\\Users\\KOFI ADUKPO\\Desktop\\code\\aenv\\lib\\site-packages\\selenium\\webdriver\\chrome\\webdriver.py:45\u001b[0m, in \u001b[0;36mWebDriver.__init__\u001b[1;34m(self, options, service, keep_alive)\u001b[0m\n\u001b[0;32m     42\u001b[0m service \u001b[39m=\u001b[39m service \u001b[39mif\u001b[39;00m service \u001b[39melse\u001b[39;00m Service()\n\u001b[0;32m     43\u001b[0m options \u001b[39m=\u001b[39m options \u001b[39mif\u001b[39;00m options \u001b[39melse\u001b[39;00m Options()\n\u001b[1;32m---> 45\u001b[0m \u001b[39msuper\u001b[39;49m()\u001b[39m.\u001b[39;49m\u001b[39m__init__\u001b[39;49m(\n\u001b[0;32m     46\u001b[0m     DesiredCapabilities\u001b[39m.\u001b[39;49mCHROME[\u001b[39m\"\u001b[39;49m\u001b[39mbrowserName\u001b[39;49m\u001b[39m\"\u001b[39;49m],\n\u001b[0;32m     47\u001b[0m     \u001b[39m\"\u001b[39;49m\u001b[39mgoog\u001b[39;49m\u001b[39m\"\u001b[39;49m,\n\u001b[0;32m     48\u001b[0m     options,\n\u001b[0;32m     49\u001b[0m     service,\n\u001b[0;32m     50\u001b[0m     keep_alive,\n\u001b[0;32m     51\u001b[0m )\n",
      "File \u001b[1;32mc:\\Users\\KOFI ADUKPO\\Desktop\\code\\aenv\\lib\\site-packages\\selenium\\webdriver\\chromium\\webdriver.py:51\u001b[0m, in \u001b[0;36mChromiumDriver.__init__\u001b[1;34m(self, browser_name, vendor_prefix, options, service, keep_alive)\u001b[0m\n\u001b[0;32m     47\u001b[0m \u001b[39mself\u001b[39m\u001b[39m.\u001b[39mvendor_prefix \u001b[39m=\u001b[39m vendor_prefix\n\u001b[0;32m     49\u001b[0m \u001b[39mself\u001b[39m\u001b[39m.\u001b[39mservice \u001b[39m=\u001b[39m service\n\u001b[1;32m---> 51\u001b[0m \u001b[39mself\u001b[39m\u001b[39m.\u001b[39mservice\u001b[39m.\u001b[39mpath \u001b[39m=\u001b[39m DriverFinder\u001b[39m.\u001b[39;49mget_path(\u001b[39mself\u001b[39;49m\u001b[39m.\u001b[39;49mservice, options)\n\u001b[0;32m     53\u001b[0m \u001b[39mself\u001b[39m\u001b[39m.\u001b[39mservice\u001b[39m.\u001b[39mstart()\n\u001b[0;32m     55\u001b[0m \u001b[39mtry\u001b[39;00m:\n",
      "File \u001b[1;32mc:\\Users\\KOFI ADUKPO\\Desktop\\code\\aenv\\lib\\site-packages\\selenium\\webdriver\\common\\driver_finder.py:40\u001b[0m, in \u001b[0;36mDriverFinder.get_path\u001b[1;34m(service, options)\u001b[0m\n\u001b[0;32m     38\u001b[0m     path \u001b[39m=\u001b[39m SeleniumManager()\u001b[39m.\u001b[39mdriver_location(options) \u001b[39mif\u001b[39;00m path \u001b[39mis\u001b[39;00m \u001b[39mNone\u001b[39;00m \u001b[39melse\u001b[39;00m path\n\u001b[0;32m     39\u001b[0m \u001b[39mexcept\u001b[39;00m \u001b[39mException\u001b[39;00m \u001b[39mas\u001b[39;00m err:\n\u001b[1;32m---> 40\u001b[0m     msg \u001b[39m=\u001b[39m \u001b[39mf\u001b[39m\u001b[39m\"\u001b[39m\u001b[39mUnable to obtain driver for \u001b[39m\u001b[39m{\u001b[39;00moptions\u001b[39m.\u001b[39mcapabilities[\u001b[39m'\u001b[39m\u001b[39mbrowserName\u001b[39m\u001b[39m'\u001b[39m]\u001b[39m}\u001b[39;00m\u001b[39m using Selenium Manager.\u001b[39m\u001b[39m\"\u001b[39m\n\u001b[0;32m     41\u001b[0m     \u001b[39mraise\u001b[39;00m NoSuchDriverException(msg) \u001b[39mfrom\u001b[39;00m \u001b[39merr\u001b[39;00m\n\u001b[0;32m     43\u001b[0m \u001b[39mif\u001b[39;00m path \u001b[39mis\u001b[39;00m \u001b[39mNone\u001b[39;00m \u001b[39mor\u001b[39;00m \u001b[39mnot\u001b[39;00m Path(path)\u001b[39m.\u001b[39mis_file():\n",
      "\u001b[1;31mAttributeError\u001b[0m: 'str' object has no attribute 'capabilities'"
     ]
    }
   ],
   "source": [
    "from selenium import webdriver\n",
    "\n",
    "# Replace with the path to your webdriver (e.g., chromedriver.exe)\n",
    "# Make sure you have the corresponding driver installed and updated.\n",
    "driver = webdriver.Chrome('C:\\\\Users\\\\KOFI ADUKPO\\\\Downloads\\\\chromedriver.exe')\n",
    "\n",
    "#\"C:\\Users\\KOFI ADUKPO\\Downloads\\dav_visualize.docx\"\n",
    "# Replace this URL with the website containing the table you want to scrape\n",
    "url = \"https://hymnary.org/hymnal/Meth1933?page=0\"\n",
    "driver.get(url)\n",
    "\n",
    "# Find the table element (assuming it has <table> tags)\n",
    "table = driver.find_element_by_xpath('//table')\n",
    "\n",
    "# Extract rows from the table\n",
    "rows = table.find_elements_by_tag_name('tr')\n",
    "\n",
    "# Iterate through each row and print the data\n",
    "for row in rows:\n",
    "    # Extract cells within each row\n",
    "    cells = row.find_elements_by_tag_name('td')\n",
    "    row_data = [cell.text for cell in cells]\n",
    "    print(row_data)\n",
    "\n",
    "# Close the browser\n",
    "driver.quit()\n"
   ]
  },
  {
   "cell_type": "code",
   "execution_count": 4,
   "metadata": {},
   "outputs": [],
   "source": [
    "import time\n",
    "from time import sleep\n",
    "from selenium import webdriver\n",
    "from selenium.webdriver.common.keys import Keys\n",
    "from webdriver_manager.chrome import ChromeDriverManager\n",
    "import pandas as pd\n",
    "from datetime import datetime\n",
    "\n",
    "# time.sleep(5)"
   ]
  },
  {
   "cell_type": "code",
   "execution_count": 22,
   "metadata": {},
   "outputs": [],
   "source": [
    "from selenium import webdriver\n",
    "browser = webdriver.Chrome()"
   ]
  },
  {
   "cell_type": "code",
   "execution_count": 38,
   "metadata": {},
   "outputs": [],
   "source": [
    "from selenium import webdriver\n",
    "\n",
    "options = webdriver.ChromeOptions()\n",
    "\n",
    "prefs = {\"download.default_directory\": \"C:\\\\Users\\\\KOFI ADUKPO\\\\Downloads\\\\solfa\", \"download.prompt_for_download\": False}\n",
    "# \"C:\\Users\\KOFI ADUKPO\\Downloads\\solfa\"\n",
    "options.add_experimental_option(\"prefs\", prefs)\n",
    "\n",
    "browser = webdriver.Chrome(options=options)\n"
   ]
  },
  {
   "cell_type": "code",
   "execution_count": 39,
   "metadata": {},
   "outputs": [],
   "source": [
    "browser.maximize_window()\n",
    "time.sleep(2)"
   ]
  },
  {
   "cell_type": "code",
   "execution_count": 49,
   "metadata": {},
   "outputs": [],
   "source": [
    "sleep(10)"
   ]
  },
  {
   "cell_type": "code",
   "execution_count": 50,
   "metadata": {},
   "outputs": [
    {
     "name": "stdout",
     "output_type": "stream",
     "text": [
      "finished loading\n"
     ]
    },
    {
     "ename": "InvalidSelectorException",
     "evalue": "Message: invalid selector: Unable to locate an element with the xpath expression (//td)[{i}] because of the following error:\nSyntaxError: Failed to execute 'evaluate' on 'Document': The string '(//td)[{i}]' is not a valid XPath expression.\n  (Session info: chrome=118.0.5993.118); For documentation on this error, please visit: https://www.selenium.dev/documentation/webdriver/troubleshooting/errors#invalid-selector-exception\nStacktrace:\n\tGetHandleVerifier [0x00007FF7F9E38EF2+54786]\n\t(No symbol) [0x00007FF7F9DA5612]\n\t(No symbol) [0x00007FF7F9C5A64B]\n\t(No symbol) [0x00007FF7F9C5F116]\n\t(No symbol) [0x00007FF7F9C6115F]\n\t(No symbol) [0x00007FF7F9C61250]\n\t(No symbol) [0x00007FF7F9C9B424]\n\t(No symbol) [0x00007FF7F9C9B91C]\n\t(No symbol) [0x00007FF7F9CD6D87]\n\t(No symbol) [0x00007FF7F9CBBEAF]\n\t(No symbol) [0x00007FF7F9CD4D02]\n\t(No symbol) [0x00007FF7F9CBBC43]\n\t(No symbol) [0x00007FF7F9C90941]\n\t(No symbol) [0x00007FF7F9C91B84]\n\tGetHandleVerifier [0x00007FF7FA187F52+3524194]\n\tGetHandleVerifier [0x00007FF7FA1DD800+3874576]\n\tGetHandleVerifier [0x00007FF7FA1D5D7F+3843215]\n\tGetHandleVerifier [0x00007FF7F9ED5086+694166]\n\t(No symbol) [0x00007FF7F9DB0A88]\n\t(No symbol) [0x00007FF7F9DACA94]\n\t(No symbol) [0x00007FF7F9DACBC2]\n\t(No symbol) [0x00007FF7F9D9CC83]\n\tBaseThreadInitThunk [0x00007FFCB0907344+20]\n\tRtlUserThreadStart [0x00007FFCB0B026B1+33]\n",
     "output_type": "error",
     "traceback": [
      "\u001b[1;31m---------------------------------------------------------------------------\u001b[0m",
      "\u001b[1;31mInvalidSelectorException\u001b[0m                  Traceback (most recent call last)",
      "\u001b[1;32mc:\\Users\\KOFI ADUKPO\\Desktop\\code\\aseda\\tries\\scrape.ipynb Cell 7\u001b[0m line \u001b[0;36m9\n\u001b[0;32m      <a href='vscode-notebook-cell:/c%3A/Users/KOFI%20ADUKPO/Desktop/code/aseda/tries/scrape.ipynb#W4sZmlsZQ%3D%3D?line=6'>7</a>\u001b[0m sleep(\u001b[39m20\u001b[39m)\n\u001b[0;32m      <a href='vscode-notebook-cell:/c%3A/Users/KOFI%20ADUKPO/Desktop/code/aseda/tries/scrape.ipynb#W4sZmlsZQ%3D%3D?line=7'>8</a>\u001b[0m \u001b[39mprint\u001b[39m(\u001b[39m'\u001b[39m\u001b[39mfinished loading\u001b[39m\u001b[39m'\u001b[39m)\n\u001b[1;32m----> <a href='vscode-notebook-cell:/c%3A/Users/KOFI%20ADUKPO/Desktop/code/aseda/tries/scrape.ipynb#W4sZmlsZQ%3D%3D?line=8'>9</a>\u001b[0m one \u001b[39m=\u001b[39m browser\u001b[39m.\u001b[39;49mfind_element(\u001b[39mf\u001b[39;49m\u001b[39m\"\u001b[39;49m\u001b[39mxpath\u001b[39;49m\u001b[39m\"\u001b[39;49m, \u001b[39m'\u001b[39;49m\u001b[39m(//td)[\u001b[39;49m\u001b[39m{i}\u001b[39;49;00m\u001b[39m]\u001b[39;49m\u001b[39m'\u001b[39;49m)\n\u001b[0;32m     <a href='vscode-notebook-cell:/c%3A/Users/KOFI%20ADUKPO/Desktop/code/aseda/tries/scrape.ipynb#W4sZmlsZQ%3D%3D?line=9'>10</a>\u001b[0m link_element \u001b[39m=\u001b[39m one\u001b[39m.\u001b[39mfind_element(\u001b[39m\"\u001b[39m\u001b[39mxpath\u001b[39m\u001b[39m\"\u001b[39m, \u001b[39m\"\u001b[39m\u001b[39m.//a\u001b[39m\u001b[39m\"\u001b[39m)  \u001b[39m# Using relative XPath from td_element\u001b[39;00m\n\u001b[0;32m     <a href='vscode-notebook-cell:/c%3A/Users/KOFI%20ADUKPO/Desktop/code/aseda/tries/scrape.ipynb#W4sZmlsZQ%3D%3D?line=11'>12</a>\u001b[0m \u001b[39m# Click on the <a> tag\u001b[39;00m\n",
      "File \u001b[1;32mc:\\Users\\KOFI ADUKPO\\Desktop\\code\\aenv\\lib\\site-packages\\selenium\\webdriver\\remote\\webdriver.py:738\u001b[0m, in \u001b[0;36mWebDriver.find_element\u001b[1;34m(self, by, value)\u001b[0m\n\u001b[0;32m    735\u001b[0m     by \u001b[39m=\u001b[39m By\u001b[39m.\u001b[39mCSS_SELECTOR\n\u001b[0;32m    736\u001b[0m     value \u001b[39m=\u001b[39m \u001b[39mf\u001b[39m\u001b[39m'\u001b[39m\u001b[39m[name=\u001b[39m\u001b[39m\"\u001b[39m\u001b[39m{\u001b[39;00mvalue\u001b[39m}\u001b[39;00m\u001b[39m\"\u001b[39m\u001b[39m]\u001b[39m\u001b[39m'\u001b[39m\n\u001b[1;32m--> 738\u001b[0m \u001b[39mreturn\u001b[39;00m \u001b[39mself\u001b[39;49m\u001b[39m.\u001b[39;49mexecute(Command\u001b[39m.\u001b[39;49mFIND_ELEMENT, {\u001b[39m\"\u001b[39;49m\u001b[39musing\u001b[39;49m\u001b[39m\"\u001b[39;49m: by, \u001b[39m\"\u001b[39;49m\u001b[39mvalue\u001b[39;49m\u001b[39m\"\u001b[39;49m: value})[\u001b[39m\"\u001b[39m\u001b[39mvalue\u001b[39m\u001b[39m\"\u001b[39m]\n",
      "File \u001b[1;32mc:\\Users\\KOFI ADUKPO\\Desktop\\code\\aenv\\lib\\site-packages\\selenium\\webdriver\\remote\\webdriver.py:344\u001b[0m, in \u001b[0;36mWebDriver.execute\u001b[1;34m(self, driver_command, params)\u001b[0m\n\u001b[0;32m    342\u001b[0m response \u001b[39m=\u001b[39m \u001b[39mself\u001b[39m\u001b[39m.\u001b[39mcommand_executor\u001b[39m.\u001b[39mexecute(driver_command, params)\n\u001b[0;32m    343\u001b[0m \u001b[39mif\u001b[39;00m response:\n\u001b[1;32m--> 344\u001b[0m     \u001b[39mself\u001b[39;49m\u001b[39m.\u001b[39;49merror_handler\u001b[39m.\u001b[39;49mcheck_response(response)\n\u001b[0;32m    345\u001b[0m     response[\u001b[39m\"\u001b[39m\u001b[39mvalue\u001b[39m\u001b[39m\"\u001b[39m] \u001b[39m=\u001b[39m \u001b[39mself\u001b[39m\u001b[39m.\u001b[39m_unwrap_value(response\u001b[39m.\u001b[39mget(\u001b[39m\"\u001b[39m\u001b[39mvalue\u001b[39m\u001b[39m\"\u001b[39m, \u001b[39mNone\u001b[39;00m))\n\u001b[0;32m    346\u001b[0m     \u001b[39mreturn\u001b[39;00m response\n",
      "File \u001b[1;32mc:\\Users\\KOFI ADUKPO\\Desktop\\code\\aenv\\lib\\site-packages\\selenium\\webdriver\\remote\\errorhandler.py:229\u001b[0m, in \u001b[0;36mErrorHandler.check_response\u001b[1;34m(self, response)\u001b[0m\n\u001b[0;32m    227\u001b[0m         alert_text \u001b[39m=\u001b[39m value[\u001b[39m\"\u001b[39m\u001b[39malert\u001b[39m\u001b[39m\"\u001b[39m]\u001b[39m.\u001b[39mget(\u001b[39m\"\u001b[39m\u001b[39mtext\u001b[39m\u001b[39m\"\u001b[39m)\n\u001b[0;32m    228\u001b[0m     \u001b[39mraise\u001b[39;00m exception_class(message, screen, stacktrace, alert_text)  \u001b[39m# type: ignore[call-arg]  # mypy is not smart enough here\u001b[39;00m\n\u001b[1;32m--> 229\u001b[0m \u001b[39mraise\u001b[39;00m exception_class(message, screen, stacktrace)\n",
      "\u001b[1;31mInvalidSelectorException\u001b[0m: Message: invalid selector: Unable to locate an element with the xpath expression (//td)[{i}] because of the following error:\nSyntaxError: Failed to execute 'evaluate' on 'Document': The string '(//td)[{i}]' is not a valid XPath expression.\n  (Session info: chrome=118.0.5993.118); For documentation on this error, please visit: https://www.selenium.dev/documentation/webdriver/troubleshooting/errors#invalid-selector-exception\nStacktrace:\n\tGetHandleVerifier [0x00007FF7F9E38EF2+54786]\n\t(No symbol) [0x00007FF7F9DA5612]\n\t(No symbol) [0x00007FF7F9C5A64B]\n\t(No symbol) [0x00007FF7F9C5F116]\n\t(No symbol) [0x00007FF7F9C6115F]\n\t(No symbol) [0x00007FF7F9C61250]\n\t(No symbol) [0x00007FF7F9C9B424]\n\t(No symbol) [0x00007FF7F9C9B91C]\n\t(No symbol) [0x00007FF7F9CD6D87]\n\t(No symbol) [0x00007FF7F9CBBEAF]\n\t(No symbol) [0x00007FF7F9CD4D02]\n\t(No symbol) [0x00007FF7F9CBBC43]\n\t(No symbol) [0x00007FF7F9C90941]\n\t(No symbol) [0x00007FF7F9C91B84]\n\tGetHandleVerifier [0x00007FF7FA187F52+3524194]\n\tGetHandleVerifier [0x00007FF7FA1DD800+3874576]\n\tGetHandleVerifier [0x00007FF7FA1D5D7F+3843215]\n\tGetHandleVerifier [0x00007FF7F9ED5086+694166]\n\t(No symbol) [0x00007FF7F9DB0A88]\n\t(No symbol) [0x00007FF7F9DACA94]\n\t(No symbol) [0x00007FF7F9DACBC2]\n\t(No symbol) [0x00007FF7F9D9CC83]\n\tBaseThreadInitThunk [0x00007FFCB0907344+20]\n\tRtlUserThreadStart [0x00007FFCB0B026B1+33]\n"
     ]
    }
   ],
   "source": [
    "p = [9, 18, 27, 36, 45, 54, 63, 72, 81, 90, 99, 108, 117, 126, 135, 144, 153, 162, 171, 180, 189, 198, 207, 216, 225, 234, 243, 252, 261, 270, 279, 288, 297, 306, 315, 324, 333, 342, 351, 360, 369, 378, 387, 396, 405, 414, 423, 432, 441, 450, 459, 468, 477, 486, 495, 504, 513, 522, 531, 540, 549, 558, 567, 576, 585, 594, 603, 612, 621, 630, 639, 648, 657, 666, 675, 684, 693, 702, 711, 720, 729, 738, 747, 756, 765, 774, 783, 792, 801, 810, 819, 828, 837, 846, 855, 864, 873, 882, 891, 900]\n",
    "for i in p:\n",
    "    try:\n",
    "        browser.get(\"https://hymnary.org/hymnal/Meth1933?page=0\")       \n",
    "    except Exception:\n",
    "        pass\n",
    "    sleep(20)\n",
    "    print('finished loading')\n",
    "    # one = browser.find_element(f\"xpath\", '(//td)[{i}]')\n",
    "    xpath_expression = f\"(//td)[{i}]\"\n",
    "    one = browser.find_element(\"xpath\", xpath_expression)\n",
    "    link_element = one.find_element(\"xpath\", \".//a\")  # Using relative XPath from td_element\n",
    "\n",
    "    # Click on the <a> tag\n",
    "    link_element.click()\n",
    "    sleep(20)\n",
    "    try:\n",
    "        peace = browser.find_element(\"xpath\", \"(//a[normalize-space()='MusicXML'])[1]\")\n",
    "        peace.click()\n",
    "    except:\n",
    "        pass\n",
    "    sleep(20)\n"
   ]
  },
  {
   "cell_type": "code",
   "execution_count": 51,
   "metadata": {},
   "outputs": [
    {
     "name": "stdout",
     "output_type": "stream",
     "text": [
      "kofi and 1\n",
      "kofi and 2\n",
      "kofi and 3\n"
     ]
    }
   ],
   "source": [
    "k =[1,2,3]\n",
    "for i in k:\n",
    "    print(f'kofi and {i}')"
   ]
  },
  {
   "cell_type": "code",
   "execution_count": 41,
   "metadata": {},
   "outputs": [],
   "source": [
    "\n",
    "one = browser.find_element(\"xpath\", '(//td)[9]')\n"
   ]
  },
  {
   "cell_type": "code",
   "execution_count": 43,
   "metadata": {},
   "outputs": [],
   "source": [
    "# Assuming 'td_element' represents the <td> element\n",
    "# td_element = browser.find_element(\"xpath\", \"//td\")  # Example XPath to find the <td> element\n",
    "\n",
    "# Find the <a> tag within the <td> element using XPath\n",
    "link_element = one.find_element(\"xpath\", \".//a\")  # Using relative XPath from td_element\n",
    "\n",
    "# Click on the <a> tag\n",
    "link_element.click()\n"
   ]
  },
  {
   "cell_type": "code",
   "execution_count": 45,
   "metadata": {},
   "outputs": [],
   "source": [
    "# (//a[normalize-space()='MusicXML'])[1]\n",
    "peace = browser.find_element(\"xpath\", \"(//a[normalize-space()='MusicXML'])[1]\")\n"
   ]
  },
  {
   "cell_type": "code",
   "execution_count": 47,
   "metadata": {},
   "outputs": [],
   "source": [
    "peace.click()"
   ]
  },
  {
   "cell_type": "code",
   "execution_count": null,
   "metadata": {},
   "outputs": [],
   "source": []
  }
 ],
 "metadata": {
  "kernelspec": {
   "display_name": "aenv",
   "language": "python",
   "name": "python3"
  },
  "language_info": {
   "codemirror_mode": {
    "name": "ipython",
    "version": 3
   },
   "file_extension": ".py",
   "mimetype": "text/x-python",
   "name": "python",
   "nbconvert_exporter": "python",
   "pygments_lexer": "ipython3",
   "version": "3.9.13"
  }
 },
 "nbformat": 4,
 "nbformat_minor": 2
}
