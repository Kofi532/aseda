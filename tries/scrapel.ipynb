{
 "cells": [
  {
   "cell_type": "code",
   "execution_count": 2,
   "metadata": {},
   "outputs": [
    {
     "name": "stdout",
     "output_type": "stream",
     "text": [
      "File 'KOFI.html' has been created in the 'atta' directory.\n"
     ]
    }
   ],
   "source": [
    "import os\n",
    "\n",
    "# String\n",
    "pol = \"KOFI IS A BOY\"\n",
    "\n",
    "# Extract the first word to use for the file name\n",
    "file_name = pol.split()[0] + \".html\"\n",
    "\n",
    "# HTML content\n",
    "html_content = f'''<!DOCTYPE html>\n",
    "<html>\n",
    "<head>\n",
    "    <title>{file_name}</title>\n",
    "</head>\n",
    "<body>\n",
    "    <h1>{pol}</h1>\n",
    "</body>\n",
    "</html>\n",
    "'''\n",
    "\n",
    "# Define the directory path\n",
    "directory = r\"C:\\Users\\KOFI ADUKPO\\Downloads\\lyrics\"\n",
    "\n",
    "# Check if the directory exists, if not, create it\n",
    "if not os.path.exists(directory):\n",
    "    os.makedirs(directory)\n",
    "\n",
    "# Define the file path\n",
    "file_path = os.path.join(directory, file_name)\n",
    "\n",
    "# Write the HTML content to the file\n",
    "with open(file_path, 'w') as file:\n",
    "    file.write(html_content)\n",
    "\n",
    "print(f\"File '{file_name}' has been created in the 'atta' directory.\")\n"
   ]
  },
  {
   "cell_type": "code",
   "execution_count": 4,
   "metadata": {},
   "outputs": [],
   "source": [
    "# list(range(1, 1001))"
   ]
  },
  {
   "cell_type": "code",
   "execution_count": 5,
   "metadata": {},
   "outputs": [],
   "source": [
    "from selenium import webdriver\n",
    "from time import sleep\n",
    "options = webdriver.ChromeOptions()\n",
    "import os\n",
    "\n",
    "prefs = {\"download.default_directory\": \"C:\\\\Users\\\\KOFI ADUKPO\\\\Downloads\\\\solfa\", \"download.prompt_for_download\": False}\n",
    "# \"C:\\Users\\KOFI ADUKPO\\Downloads\\solfa\"\n",
    "options.add_experimental_option(\"prefs\", prefs)\n",
    "\n",
    "browser = webdriver.Chrome(options=options)\n"
   ]
  },
  {
   "cell_type": "code",
   "execution_count": 6,
   "metadata": {},
   "outputs": [],
   "source": [
    "browser.maximize_window()\n",
    "sleep(2)"
   ]
  },
  {
   "cell_type": "code",
   "execution_count": 9,
   "metadata": {},
   "outputs": [],
   "source": [
    "p = [ 9, 18, 27, 36, 45, 54, 63, 72, 81, 90, 99, 108, 117, 126, 135, 144, 153, 162, 171, 180, 189, 198, 207, 216, 225, 234, 243, 252, 261, 270, 279, 288, 297, 306, 315, 324, 333, 342, 351, 360, 369, 378, 387, 396, 405, 414, 423, 432, 441, 450, 459, 468, 477, 486, 495, 504, 513, 522, 531, 540, 549, 558, 567, 576, 585, 594, 603, 612, 621, 630, 639, 648, 657, 666, 675, 684, 693, 702, 711, 720, 729, 738, 747, 756, 765, 774, 783, 792, 801, 810, 819, 828, 837, 846, 855, 864, 873, 882, 891, 900]\n",
    "# p = [ 63, 72, 81, 90, 99, 108, 117, 126, 135, 144, 153, 162, 171, 180, 189, 198, 207, 216, 225, 234, 243, 252, 261, 270, 279, 288, 297, 306, 315, 324, 333, 342, 351, 360, 369, 378, 387, 396, 405, 414, 423, 432, 441, 450, 459, 468, 477, 486, 495, 504, 513, 522, 531, 540, 549, 558, 567, 576, 585, 594, 603, 612, 621, 630, 639, 648, 657, 666, 675, 684, 693, 702, 711, 720, 729, 738, 747, 756, 765, 774, 783, 792, 801, 810, 819, 828, 837, 846, 855, 864, 873, 882, 891, 900]\n"
   ]
  },
  {
   "cell_type": "code",
   "execution_count": 10,
   "metadata": {},
   "outputs": [
    {
     "ename": "TimeoutException",
     "evalue": "Message: timeout: Timed out receiving message from renderer: 300.000\n  (Session info: chrome=118.0.5993.118)\nStacktrace:\n\tGetHandleVerifier [0x00007FF7C5E28EF2+54786]\n\t(No symbol) [0x00007FF7C5D95612]\n\t(No symbol) [0x00007FF7C5C4A64B]\n\t(No symbol) [0x00007FF7C5C38BEA]\n\t(No symbol) [0x00007FF7C5C38B33]\n\t(No symbol) [0x00007FF7C5C373AA]\n\t(No symbol) [0x00007FF7C5C37E6E]\n\t(No symbol) [0x00007FF7C5C442FB]\n\t(No symbol) [0x00007FF7C5C556D1]\n\t(No symbol) [0x00007FF7C5C59A4A]\n\t(No symbol) [0x00007FF7C5C384B7]\n\t(No symbol) [0x00007FF7C5C555AA]\n\t(No symbol) [0x00007FF7C5CC4C2F]\n\t(No symbol) [0x00007FF7C5CABC43]\n\t(No symbol) [0x00007FF7C5C80941]\n\t(No symbol) [0x00007FF7C5C81B84]\n\tGetHandleVerifier [0x00007FF7C6177F52+3524194]\n\tGetHandleVerifier [0x00007FF7C61CD800+3874576]\n\tGetHandleVerifier [0x00007FF7C61C5D7F+3843215]\n\tGetHandleVerifier [0x00007FF7C5EC5086+694166]\n\t(No symbol) [0x00007FF7C5DA0A88]\n\t(No symbol) [0x00007FF7C5D9CA94]\n\t(No symbol) [0x00007FF7C5D9CBC2]\n\t(No symbol) [0x00007FF7C5D8CC83]\n\tBaseThreadInitThunk [0x00007FFFE1A97344+20]\n\tRtlUserThreadStart [0x00007FFFE33C26B1+33]\n",
     "output_type": "error",
     "traceback": [
      "\u001b[1;31m---------------------------------------------------------------------------\u001b[0m",
      "\u001b[1;31mTimeoutException\u001b[0m                          Traceback (most recent call last)",
      "\u001b[1;32mc:\\Users\\KOFI ADUKPO\\Desktop\\code\\aseda\\tries\\scrapel.ipynb Cell 6\u001b[0m line \u001b[0;36m1\n\u001b[0;32m     <a href='vscode-notebook-cell:/c%3A/Users/KOFI%20ADUKPO/Desktop/code/aseda/tries/scrapel.ipynb#X10sZmlsZQ%3D%3D?line=16'>17</a>\u001b[0m link_element_1\u001b[39m.\u001b[39mclick()\n\u001b[0;32m     <a href='vscode-notebook-cell:/c%3A/Users/KOFI%20ADUKPO/Desktop/code/aseda/tries/scrapel.ipynb#X10sZmlsZQ%3D%3D?line=17'>18</a>\u001b[0m sleep(\u001b[39m20\u001b[39m)\n\u001b[1;32m---> <a href='vscode-notebook-cell:/c%3A/Users/KOFI%20ADUKPO/Desktop/code/aseda/tries/scrapel.ipynb#X10sZmlsZQ%3D%3D?line=18'>19</a>\u001b[0m nexttext \u001b[39m=\u001b[39m browser\u001b[39m.\u001b[39;49mfind_element(\u001b[39m\"\u001b[39;49m\u001b[39mxpath\u001b[39;49m\u001b[39m\"\u001b[39;49m, \u001b[39m\"\u001b[39;49m\u001b[39m(//td)[5]\u001b[39;49m\u001b[39m\"\u001b[39;49m)\n\u001b[0;32m     <a href='vscode-notebook-cell:/c%3A/Users/KOFI%20ADUKPO/Desktop/code/aseda/tries/scrapel.ipynb#X10sZmlsZQ%3D%3D?line=19'>20</a>\u001b[0m proof \u001b[39m=\u001b[39m nexttext\u001b[39m.\u001b[39mfind_element(\u001b[39m\"\u001b[39m\u001b[39mxpath\u001b[39m\u001b[39m\"\u001b[39m, \u001b[39m\"\u001b[39m\u001b[39m.//a\u001b[39m\u001b[39m\"\u001b[39m)\n\u001b[0;32m     <a href='vscode-notebook-cell:/c%3A/Users/KOFI%20ADUKPO/Desktop/code/aseda/tries/scrapel.ipynb#X10sZmlsZQ%3D%3D?line=20'>21</a>\u001b[0m proof\u001b[39m.\u001b[39mclick()\n",
      "File \u001b[1;32mc:\\Users\\KOFI ADUKPO\\Desktop\\code\\aenv\\lib\\site-packages\\selenium\\webdriver\\remote\\webdriver.py:738\u001b[0m, in \u001b[0;36mWebDriver.find_element\u001b[1;34m(self, by, value)\u001b[0m\n\u001b[0;32m    735\u001b[0m     by \u001b[39m=\u001b[39m By\u001b[39m.\u001b[39mCSS_SELECTOR\n\u001b[0;32m    736\u001b[0m     value \u001b[39m=\u001b[39m \u001b[39mf\u001b[39m\u001b[39m'\u001b[39m\u001b[39m[name=\u001b[39m\u001b[39m\"\u001b[39m\u001b[39m{\u001b[39;00mvalue\u001b[39m}\u001b[39;00m\u001b[39m\"\u001b[39m\u001b[39m]\u001b[39m\u001b[39m'\u001b[39m\n\u001b[1;32m--> 738\u001b[0m \u001b[39mreturn\u001b[39;00m \u001b[39mself\u001b[39;49m\u001b[39m.\u001b[39;49mexecute(Command\u001b[39m.\u001b[39;49mFIND_ELEMENT, {\u001b[39m\"\u001b[39;49m\u001b[39musing\u001b[39;49m\u001b[39m\"\u001b[39;49m: by, \u001b[39m\"\u001b[39;49m\u001b[39mvalue\u001b[39;49m\u001b[39m\"\u001b[39;49m: value})[\u001b[39m\"\u001b[39m\u001b[39mvalue\u001b[39m\u001b[39m\"\u001b[39m]\n",
      "File \u001b[1;32mc:\\Users\\KOFI ADUKPO\\Desktop\\code\\aenv\\lib\\site-packages\\selenium\\webdriver\\remote\\webdriver.py:344\u001b[0m, in \u001b[0;36mWebDriver.execute\u001b[1;34m(self, driver_command, params)\u001b[0m\n\u001b[0;32m    342\u001b[0m response \u001b[39m=\u001b[39m \u001b[39mself\u001b[39m\u001b[39m.\u001b[39mcommand_executor\u001b[39m.\u001b[39mexecute(driver_command, params)\n\u001b[0;32m    343\u001b[0m \u001b[39mif\u001b[39;00m response:\n\u001b[1;32m--> 344\u001b[0m     \u001b[39mself\u001b[39;49m\u001b[39m.\u001b[39;49merror_handler\u001b[39m.\u001b[39;49mcheck_response(response)\n\u001b[0;32m    345\u001b[0m     response[\u001b[39m\"\u001b[39m\u001b[39mvalue\u001b[39m\u001b[39m\"\u001b[39m] \u001b[39m=\u001b[39m \u001b[39mself\u001b[39m\u001b[39m.\u001b[39m_unwrap_value(response\u001b[39m.\u001b[39mget(\u001b[39m\"\u001b[39m\u001b[39mvalue\u001b[39m\u001b[39m\"\u001b[39m, \u001b[39mNone\u001b[39;00m))\n\u001b[0;32m    346\u001b[0m     \u001b[39mreturn\u001b[39;00m response\n",
      "File \u001b[1;32mc:\\Users\\KOFI ADUKPO\\Desktop\\code\\aenv\\lib\\site-packages\\selenium\\webdriver\\remote\\errorhandler.py:229\u001b[0m, in \u001b[0;36mErrorHandler.check_response\u001b[1;34m(self, response)\u001b[0m\n\u001b[0;32m    227\u001b[0m         alert_text \u001b[39m=\u001b[39m value[\u001b[39m\"\u001b[39m\u001b[39malert\u001b[39m\u001b[39m\"\u001b[39m]\u001b[39m.\u001b[39mget(\u001b[39m\"\u001b[39m\u001b[39mtext\u001b[39m\u001b[39m\"\u001b[39m)\n\u001b[0;32m    228\u001b[0m     \u001b[39mraise\u001b[39;00m exception_class(message, screen, stacktrace, alert_text)  \u001b[39m# type: ignore[call-arg]  # mypy is not smart enough here\u001b[39;00m\n\u001b[1;32m--> 229\u001b[0m \u001b[39mraise\u001b[39;00m exception_class(message, screen, stacktrace)\n",
      "\u001b[1;31mTimeoutException\u001b[0m: Message: timeout: Timed out receiving message from renderer: 300.000\n  (Session info: chrome=118.0.5993.118)\nStacktrace:\n\tGetHandleVerifier [0x00007FF7C5E28EF2+54786]\n\t(No symbol) [0x00007FF7C5D95612]\n\t(No symbol) [0x00007FF7C5C4A64B]\n\t(No symbol) [0x00007FF7C5C38BEA]\n\t(No symbol) [0x00007FF7C5C38B33]\n\t(No symbol) [0x00007FF7C5C373AA]\n\t(No symbol) [0x00007FF7C5C37E6E]\n\t(No symbol) [0x00007FF7C5C442FB]\n\t(No symbol) [0x00007FF7C5C556D1]\n\t(No symbol) [0x00007FF7C5C59A4A]\n\t(No symbol) [0x00007FF7C5C384B7]\n\t(No symbol) [0x00007FF7C5C555AA]\n\t(No symbol) [0x00007FF7C5CC4C2F]\n\t(No symbol) [0x00007FF7C5CABC43]\n\t(No symbol) [0x00007FF7C5C80941]\n\t(No symbol) [0x00007FF7C5C81B84]\n\tGetHandleVerifier [0x00007FF7C6177F52+3524194]\n\tGetHandleVerifier [0x00007FF7C61CD800+3874576]\n\tGetHandleVerifier [0x00007FF7C61C5D7F+3843215]\n\tGetHandleVerifier [0x00007FF7C5EC5086+694166]\n\t(No symbol) [0x00007FF7C5DA0A88]\n\t(No symbol) [0x00007FF7C5D9CA94]\n\t(No symbol) [0x00007FF7C5D9CBC2]\n\t(No symbol) [0x00007FF7C5D8CC83]\n\tBaseThreadInitThunk [0x00007FFFE1A97344+20]\n\tRtlUserThreadStart [0x00007FFFE33C26B1+33]\n"
     ]
    }
   ],
   "source": [
    "for i in p:\n",
    "    browser.get(\"https://hymnary.org/hymnal/Meth1933?page=0\")\n",
    "    sleep(20)\n",
    "    xpath_expression = f\"(//td)[{i-2}]\"\n",
    "    deen = browser.find_element(\"xpath\", xpath_expression)\n",
    "    pol = deen.find_element(\"xpath\", \".//a\")\n",
    "    deep = str(pol.text)\n",
    "    name = str(pol.text)+'.xml'\n",
    "    # one = browser.find_element(f\"xpath\", '(//td)[{i}]')\n",
    "    xpath_expression = f\"(//td)[{i}]\"\n",
    "    xpath_expression_1 = f\"(//td)[{i-1}]\" #for the lyrics(text column)\n",
    "    one = browser.find_element(\"xpath\", xpath_expression)\n",
    "    one_1 = browser.find_element(\"xpath\", xpath_expression_1) \n",
    "    link_element = one.find_element(\"xpath\", \".//a\")  # Using relative XPath from td_element\n",
    "    link_element_1 = one_1.find_element(\"xpath\", \".//a\")\n",
    "    # Click on the <a> tag\n",
    "    link_element_1.click()\n",
    "    sleep(20)\n",
    "    nexttext = browser.find_element(\"xpath\", \"(//td)[5]\")\n",
    "    proof = nexttext.find_element(\"xpath\", \".//a\")\n",
    "    proof.click()\n",
    "    sleep(20)\n",
    "    try:\n",
    "        deen = browser.find_element(\"xpath\", \"(//div[@class='authority_columns'])[1]\")\n",
    "        hymn = str(deen.text)\n",
    "    except:\n",
    "        pass\n",
    "    # Replace \"\\n\" with \"<br>\"\n",
    "    hymn = hymn.replace(\"\\n\", \" <br> \")\n",
    "\n",
    "    print(hymn)\n",
    "    # Extract the first word to use for the file name\n",
    "    print(str(deep))\n",
    "    file_name = str(deep) + \".html\"\n",
    "\n",
    "    # HTML content\n",
    "    html_content = f'''\n",
    "        <p>{hymn}</p>\n",
    "        <a href=\"/\">Read and play tonic-solfa notes</a>\n",
    "    '''\n",
    "\n",
    "    # Define the directory path\n",
    "    directory = r\"C:\\Users\\KOFI ADUKPO\\Downloads\\lyrics\"\n",
    "\n",
    "    # Check if the directory exists, if not, create it\n",
    "    if not os.path.exists(directory):\n",
    "        os.makedirs(directory)\n",
    "\n",
    "    # Define the file path\n",
    "    file_path = os.path.join(directory, file_name)\n",
    "\n",
    "    # Write the HTML content to the file\n",
    "    with open(file_path, 'w') as file:\n",
    "        file.write(html_content)\n",
    "\n",
    "    print(f\"File '{file_name}' has been created in the 'atta' directory.\")\n",
    "    sleep(20)"
   ]
  },
  {
   "cell_type": "code",
   "execution_count": 3,
   "metadata": {},
   "outputs": [],
   "source": [
    "deen = browser.find_element(\"xpath\", \"(//div[@class='authority_columns'])[1]\")\n",
    "hymn = deen.text"
   ]
  },
  {
   "cell_type": "code",
   "execution_count": 4,
   "metadata": {},
   "outputs": [
    {
     "data": {
      "text/plain": [
       "\"1 O for a thousand tongues to sing\\nmy great Redeemer's praise,\\nthe glories of my God and King,\\nthe triumphs of his grace!\\n2 My gracious Master and my God,\\nassist me to proclaim,\\nto spread thro' all the earth abroad\\nthe honors of your name.\\n3 Jesus! the name that charms our fears,\\nthat bids our sorrows cease,\\n'tis music in the sinner's ears,\\n'tis life and health and peace.\\n4 He breaks the power of cancelled sin,\\nhe sets the prisoner free;\\nhis blood can make the foulest clean;\\nhis blood availed for me.\\n5 To God all glory, praise, and love\\nbe now and ever given\\nby saints below and saints above,\\nthe Church in earth and heaven.\\nWorship & Rejoice, 2003\""
      ]
     },
     "execution_count": 4,
     "metadata": {},
     "output_type": "execute_result"
    }
   ],
   "source": [
    "hymn"
   ]
  },
  {
   "cell_type": "code",
   "execution_count": 5,
   "metadata": {},
   "outputs": [
    {
     "name": "stdout",
     "output_type": "stream",
     "text": [
      "1 O for a thousand tongues to sing <br> my great Redeemer's praise, <br> the glories of my God and King, <br> the triumphs of his grace! <br> 2 My gracious Master and my God, <br> assist me to proclaim, <br> to spread thro' all the earth abroad <br> the honors of your name. <br> 3 Jesus! the name that charms our fears, <br> that bids our sorrows cease, <br> 'tis music in the sinner's ears, <br> 'tis life and health and peace. <br> 4 He breaks the power of cancelled sin, <br> he sets the prisoner free; <br> his blood can make the foulest clean; <br> his blood availed for me. <br> 5 To God all glory, praise, and love <br> be now and ever given <br> by saints below and saints above, <br> the Church in earth and heaven. <br> Worship & Rejoice, 2003\n"
     ]
    }
   ],
   "source": [
    "p = \"1 O for a thousand tongues to sing\\nmy great Redeemer's praise,\\nthe glories of my God and King,\\nthe triumphs of his grace!\\n2 My gracious Master and my God,\\nassist me to proclaim,\\nto spread thro' all the earth abroad\\nthe honors of your name.\\n3 Jesus! the name that charms our fears,\\nthat bids our sorrows cease,\\n'tis music in the sinner's ears,\\n'tis life and health and peace.\\n4 He breaks the power of cancelled sin,\\nhe sets the prisoner free;\\nhis blood can make the foulest clean;\\nhis blood availed for me.\\n5 To God all glory, praise, and love\\nbe now and ever given\\nby saints below and saints above,\\nthe Church in earth and heaven.\\nWorship & Rejoice, 2003\"\n",
    "\n",
    "# Replace \"\\n\" with \"<br>\"\n",
    "p_with_br = p.replace(\"\\n\", \" <br> \")\n",
    "\n",
    "print(p_with_br)\n"
   ]
  },
  {
   "cell_type": "code",
   "execution_count": null,
   "metadata": {},
   "outputs": [],
   "source": []
  },
  {
   "cell_type": "code",
   "execution_count": null,
   "metadata": {},
   "outputs": [],
   "source": []
  },
  {
   "cell_type": "code",
   "execution_count": 6,
   "metadata": {},
   "outputs": [
    {
     "name": "stdout",
     "output_type": "stream",
     "text": [
      "Modified: C:\\Users\\KOFI ADUKPO\\Downloads\\lyrics\\10.html\n",
      "Modified: C:\\Users\\KOFI ADUKPO\\Downloads\\lyrics\\11.html\n",
      "Modified: C:\\Users\\KOFI ADUKPO\\Downloads\\lyrics\\12a.html\n",
      "Modified: C:\\Users\\KOFI ADUKPO\\Downloads\\lyrics\\12b.html\n",
      "Modified: C:\\Users\\KOFI ADUKPO\\Downloads\\lyrics\\13.html\n",
      "Modified: C:\\Users\\KOFI ADUKPO\\Downloads\\lyrics\\14.html\n",
      "Modified: C:\\Users\\KOFI ADUKPO\\Downloads\\lyrics\\15.html\n",
      "Modified: C:\\Users\\KOFI ADUKPO\\Downloads\\lyrics\\16.html\n",
      "Modified: C:\\Users\\KOFI ADUKPO\\Downloads\\lyrics\\17.html\n",
      "Modified: C:\\Users\\KOFI ADUKPO\\Downloads\\lyrics\\18.html\n",
      "Modified: C:\\Users\\KOFI ADUKPO\\Downloads\\lyrics\\19.html\n",
      "Modified: C:\\Users\\KOFI ADUKPO\\Downloads\\lyrics\\1b.html\n",
      "Modified: C:\\Users\\KOFI ADUKPO\\Downloads\\lyrics\\2.html\n",
      "Modified: C:\\Users\\KOFI ADUKPO\\Downloads\\lyrics\\20.html\n",
      "Modified: C:\\Users\\KOFI ADUKPO\\Downloads\\lyrics\\21.html\n",
      "Modified: C:\\Users\\KOFI ADUKPO\\Downloads\\lyrics\\22.html\n",
      "Modified: C:\\Users\\KOFI ADUKPO\\Downloads\\lyrics\\23.html\n",
      "Modified: C:\\Users\\KOFI ADUKPO\\Downloads\\lyrics\\24.html\n",
      "Modified: C:\\Users\\KOFI ADUKPO\\Downloads\\lyrics\\25.html\n",
      "Modified: C:\\Users\\KOFI ADUKPO\\Downloads\\lyrics\\26.html\n",
      "Modified: C:\\Users\\KOFI ADUKPO\\Downloads\\lyrics\\27a.html\n",
      "Modified: C:\\Users\\KOFI ADUKPO\\Downloads\\lyrics\\27b.html\n",
      "Modified: C:\\Users\\KOFI ADUKPO\\Downloads\\lyrics\\28.html\n",
      "Modified: C:\\Users\\KOFI ADUKPO\\Downloads\\lyrics\\29.html\n",
      "Modified: C:\\Users\\KOFI ADUKPO\\Downloads\\lyrics\\3.html\n",
      "Modified: C:\\Users\\KOFI ADUKPO\\Downloads\\lyrics\\30.html\n",
      "Modified: C:\\Users\\KOFI ADUKPO\\Downloads\\lyrics\\31.html\n",
      "Modified: C:\\Users\\KOFI ADUKPO\\Downloads\\lyrics\\32.html\n",
      "Modified: C:\\Users\\KOFI ADUKPO\\Downloads\\lyrics\\33.html\n",
      "Modified: C:\\Users\\KOFI ADUKPO\\Downloads\\lyrics\\34.html\n",
      "Modified: C:\\Users\\KOFI ADUKPO\\Downloads\\lyrics\\375b.html\n",
      "Modified: C:\\Users\\KOFI ADUKPO\\Downloads\\lyrics\\376.html\n",
      "Modified: C:\\Users\\KOFI ADUKPO\\Downloads\\lyrics\\377.html\n",
      "Modified: C:\\Users\\KOFI ADUKPO\\Downloads\\lyrics\\378.html\n",
      "Modified: C:\\Users\\KOFI ADUKPO\\Downloads\\lyrics\\379.html\n",
      "Modified: C:\\Users\\KOFI ADUKPO\\Downloads\\lyrics\\380.html\n",
      "Modified: C:\\Users\\KOFI ADUKPO\\Downloads\\lyrics\\381.html\n",
      "Modified: C:\\Users\\KOFI ADUKPO\\Downloads\\lyrics\\382.html\n",
      "Modified: C:\\Users\\KOFI ADUKPO\\Downloads\\lyrics\\383.html\n",
      "Modified: C:\\Users\\KOFI ADUKPO\\Downloads\\lyrics\\384.html\n",
      "Modified: C:\\Users\\KOFI ADUKPO\\Downloads\\lyrics\\385.html\n",
      "Modified: C:\\Users\\KOFI ADUKPO\\Downloads\\lyrics\\386.html\n",
      "Modified: C:\\Users\\KOFI ADUKPO\\Downloads\\lyrics\\387.html\n",
      "Modified: C:\\Users\\KOFI ADUKPO\\Downloads\\lyrics\\388.html\n",
      "Modified: C:\\Users\\KOFI ADUKPO\\Downloads\\lyrics\\389.html\n",
      "Modified: C:\\Users\\KOFI ADUKPO\\Downloads\\lyrics\\390.html\n",
      "Modified: C:\\Users\\KOFI ADUKPO\\Downloads\\lyrics\\391.html\n",
      "Modified: C:\\Users\\KOFI ADUKPO\\Downloads\\lyrics\\392a.html\n",
      "Modified: C:\\Users\\KOFI ADUKPO\\Downloads\\lyrics\\392b.html\n",
      "Modified: C:\\Users\\KOFI ADUKPO\\Downloads\\lyrics\\393.html\n",
      "Modified: C:\\Users\\KOFI ADUKPO\\Downloads\\lyrics\\394a.html\n",
      "Modified: C:\\Users\\KOFI ADUKPO\\Downloads\\lyrics\\394b.html\n",
      "Modified: C:\\Users\\KOFI ADUKPO\\Downloads\\lyrics\\395.html\n",
      "Modified: C:\\Users\\KOFI ADUKPO\\Downloads\\lyrics\\396.html\n",
      "Modified: C:\\Users\\KOFI ADUKPO\\Downloads\\lyrics\\397.html\n",
      "Modified: C:\\Users\\KOFI ADUKPO\\Downloads\\lyrics\\398.html\n",
      "Modified: C:\\Users\\KOFI ADUKPO\\Downloads\\lyrics\\399.html\n",
      "Modified: C:\\Users\\KOFI ADUKPO\\Downloads\\lyrics\\4.html\n",
      "Modified: C:\\Users\\KOFI ADUKPO\\Downloads\\lyrics\\400.html\n",
      "Modified: C:\\Users\\KOFI ADUKPO\\Downloads\\lyrics\\401.html\n",
      "Modified: C:\\Users\\KOFI ADUKPO\\Downloads\\lyrics\\402.html\n",
      "Modified: C:\\Users\\KOFI ADUKPO\\Downloads\\lyrics\\403.html\n",
      "Modified: C:\\Users\\KOFI ADUKPO\\Downloads\\lyrics\\404.html\n",
      "Modified: C:\\Users\\KOFI ADUKPO\\Downloads\\lyrics\\405.html\n",
      "Modified: C:\\Users\\KOFI ADUKPO\\Downloads\\lyrics\\406.html\n",
      "Modified: C:\\Users\\KOFI ADUKPO\\Downloads\\lyrics\\407.html\n",
      "Modified: C:\\Users\\KOFI ADUKPO\\Downloads\\lyrics\\408.html\n",
      "Modified: C:\\Users\\KOFI ADUKPO\\Downloads\\lyrics\\409.html\n",
      "Modified: C:\\Users\\KOFI ADUKPO\\Downloads\\lyrics\\410a.html\n",
      "Modified: C:\\Users\\KOFI ADUKPO\\Downloads\\lyrics\\410b.html\n",
      "Modified: C:\\Users\\KOFI ADUKPO\\Downloads\\lyrics\\411a.html\n",
      "Modified: C:\\Users\\KOFI ADUKPO\\Downloads\\lyrics\\411b.html\n",
      "Modified: C:\\Users\\KOFI ADUKPO\\Downloads\\lyrics\\412a.html\n",
      "Modified: C:\\Users\\KOFI ADUKPO\\Downloads\\lyrics\\412b.html\n",
      "Modified: C:\\Users\\KOFI ADUKPO\\Downloads\\lyrics\\413.html\n",
      "Modified: C:\\Users\\KOFI ADUKPO\\Downloads\\lyrics\\414.html\n",
      "Modified: C:\\Users\\KOFI ADUKPO\\Downloads\\lyrics\\415.html\n",
      "Modified: C:\\Users\\KOFI ADUKPO\\Downloads\\lyrics\\416.html\n",
      "Modified: C:\\Users\\KOFI ADUKPO\\Downloads\\lyrics\\417.html\n",
      "Modified: C:\\Users\\KOFI ADUKPO\\Downloads\\lyrics\\418.html\n",
      "Modified: C:\\Users\\KOFI ADUKPO\\Downloads\\lyrics\\419.html\n",
      "Modified: C:\\Users\\KOFI ADUKPO\\Downloads\\lyrics\\420.html\n",
      "Modified: C:\\Users\\KOFI ADUKPO\\Downloads\\lyrics\\421.html\n",
      "Modified: C:\\Users\\KOFI ADUKPO\\Downloads\\lyrics\\422.html\n",
      "Modified: C:\\Users\\KOFI ADUKPO\\Downloads\\lyrics\\423.html\n",
      "Modified: C:\\Users\\KOFI ADUKPO\\Downloads\\lyrics\\424.html\n",
      "Modified: C:\\Users\\KOFI ADUKPO\\Downloads\\lyrics\\425.html\n",
      "Modified: C:\\Users\\KOFI ADUKPO\\Downloads\\lyrics\\426.html\n",
      "Modified: C:\\Users\\KOFI ADUKPO\\Downloads\\lyrics\\427.html\n",
      "Modified: C:\\Users\\KOFI ADUKPO\\Downloads\\lyrics\\428.html\n",
      "Modified: C:\\Users\\KOFI ADUKPO\\Downloads\\lyrics\\429a.html\n",
      "Modified: C:\\Users\\KOFI ADUKPO\\Downloads\\lyrics\\429b.html\n",
      "Modified: C:\\Users\\KOFI ADUKPO\\Downloads\\lyrics\\430.html\n",
      "Modified: C:\\Users\\KOFI ADUKPO\\Downloads\\lyrics\\431a.html\n",
      "Modified: C:\\Users\\KOFI ADUKPO\\Downloads\\lyrics\\431b.html\n",
      "Modified: C:\\Users\\KOFI ADUKPO\\Downloads\\lyrics\\432.html\n",
      "Modified: C:\\Users\\KOFI ADUKPO\\Downloads\\lyrics\\433.html\n",
      "Modified: C:\\Users\\KOFI ADUKPO\\Downloads\\lyrics\\434.html\n",
      "Modified: C:\\Users\\KOFI ADUKPO\\Downloads\\lyrics\\435.html\n",
      "Modified: C:\\Users\\KOFI ADUKPO\\Downloads\\lyrics\\436.html\n",
      "Modified: C:\\Users\\KOFI ADUKPO\\Downloads\\lyrics\\437.html\n",
      "Modified: C:\\Users\\KOFI ADUKPO\\Downloads\\lyrics\\438.html\n",
      "Modified: C:\\Users\\KOFI ADUKPO\\Downloads\\lyrics\\439.html\n",
      "Modified: C:\\Users\\KOFI ADUKPO\\Downloads\\lyrics\\440.html\n",
      "Modified: C:\\Users\\KOFI ADUKPO\\Downloads\\lyrics\\441.html\n",
      "Modified: C:\\Users\\KOFI ADUKPO\\Downloads\\lyrics\\442.html\n",
      "Modified: C:\\Users\\KOFI ADUKPO\\Downloads\\lyrics\\443.html\n",
      "Modified: C:\\Users\\KOFI ADUKPO\\Downloads\\lyrics\\444.html\n",
      "Modified: C:\\Users\\KOFI ADUKPO\\Downloads\\lyrics\\445.html\n",
      "Modified: C:\\Users\\KOFI ADUKPO\\Downloads\\lyrics\\446.html\n",
      "Modified: C:\\Users\\KOFI ADUKPO\\Downloads\\lyrics\\447.html\n",
      "Modified: C:\\Users\\KOFI ADUKPO\\Downloads\\lyrics\\448.html\n",
      "Modified: C:\\Users\\KOFI ADUKPO\\Downloads\\lyrics\\449.html\n",
      "Modified: C:\\Users\\KOFI ADUKPO\\Downloads\\lyrics\\450.html\n",
      "Modified: C:\\Users\\KOFI ADUKPO\\Downloads\\lyrics\\451.html\n",
      "Modified: C:\\Users\\KOFI ADUKPO\\Downloads\\lyrics\\452.html\n",
      "Modified: C:\\Users\\KOFI ADUKPO\\Downloads\\lyrics\\453.html\n",
      "Modified: C:\\Users\\KOFI ADUKPO\\Downloads\\lyrics\\454.html\n",
      "Modified: C:\\Users\\KOFI ADUKPO\\Downloads\\lyrics\\455.html\n",
      "Modified: C:\\Users\\KOFI ADUKPO\\Downloads\\lyrics\\456.html\n",
      "Modified: C:\\Users\\KOFI ADUKPO\\Downloads\\lyrics\\457.html\n",
      "Modified: C:\\Users\\KOFI ADUKPO\\Downloads\\lyrics\\458.html\n",
      "Modified: C:\\Users\\KOFI ADUKPO\\Downloads\\lyrics\\459.html\n",
      "Modified: C:\\Users\\KOFI ADUKPO\\Downloads\\lyrics\\460.html\n",
      "Modified: C:\\Users\\KOFI ADUKPO\\Downloads\\lyrics\\461.html\n",
      "Modified: C:\\Users\\KOFI ADUKPO\\Downloads\\lyrics\\462.html\n",
      "Modified: C:\\Users\\KOFI ADUKPO\\Downloads\\lyrics\\463.html\n",
      "Modified: C:\\Users\\KOFI ADUKPO\\Downloads\\lyrics\\464.html\n",
      "Modified: C:\\Users\\KOFI ADUKPO\\Downloads\\lyrics\\465.html\n",
      "Modified: C:\\Users\\KOFI ADUKPO\\Downloads\\lyrics\\466.html\n",
      "Modified: C:\\Users\\KOFI ADUKPO\\Downloads\\lyrics\\467.html\n",
      "Modified: C:\\Users\\KOFI ADUKPO\\Downloads\\lyrics\\5a.html\n",
      "Modified: C:\\Users\\KOFI ADUKPO\\Downloads\\lyrics\\5b.html\n",
      "Modified: C:\\Users\\KOFI ADUKPO\\Downloads\\lyrics\\6.html\n",
      "Modified: C:\\Users\\KOFI ADUKPO\\Downloads\\lyrics\\7.html\n",
      "Modified: C:\\Users\\KOFI ADUKPO\\Downloads\\lyrics\\76a.html\n",
      "Modified: C:\\Users\\KOFI ADUKPO\\Downloads\\lyrics\\76b.html\n",
      "Modified: C:\\Users\\KOFI ADUKPO\\Downloads\\lyrics\\77.html\n",
      "Modified: C:\\Users\\KOFI ADUKPO\\Downloads\\lyrics\\78.html\n",
      "Modified: C:\\Users\\KOFI ADUKPO\\Downloads\\lyrics\\79.html\n",
      "Modified: C:\\Users\\KOFI ADUKPO\\Downloads\\lyrics\\8.html\n",
      "Modified: C:\\Users\\KOFI ADUKPO\\Downloads\\lyrics\\80.html\n",
      "Modified: C:\\Users\\KOFI ADUKPO\\Downloads\\lyrics\\81.html\n",
      "Modified: C:\\Users\\KOFI ADUKPO\\Downloads\\lyrics\\82.html\n",
      "Modified: C:\\Users\\KOFI ADUKPO\\Downloads\\lyrics\\83.html\n",
      "Modified: C:\\Users\\KOFI ADUKPO\\Downloads\\lyrics\\9a.html\n",
      "Modified: C:\\Users\\KOFI ADUKPO\\Downloads\\lyrics\\9b.html\n",
      "All HTML files processed.\n"
     ]
    }
   ],
   "source": [
    "import os\n",
    "import re\n",
    "\n",
    "# Specify the directory containing the HTML files\n",
    "directory = r'C:\\Users\\KOFI ADUKPO\\Downloads\\lyrics'\n",
    "\n",
    "# Define the HTML snippet to be added\n",
    "snippet = '<a href=\"/\">Read and play tonic-solfa notes</a>'\n",
    "\n",
    "# Function to process an HTML file\n",
    "def process_html_file(file_path):\n",
    "    with open(file_path, 'r') as file:\n",
    "        content = file.read()\n",
    "\n",
    "    # Add the snippet before the closing </body> tag\n",
    "    modified_content = re.sub(r'</body>', f'{snippet}\\n</body>', content, flags=re.IGNORECASE)\n",
    "\n",
    "    with open(file_path, 'w') as file:\n",
    "        file.write(modified_content)\n",
    "\n",
    "# Iterate through HTML files in the directory\n",
    "for root, dirs, files in os.walk(directory):\n",
    "    for file in files:\n",
    "        if file.endswith('.html'):\n",
    "            file_path = os.path.join(root, file)\n",
    "            process_html_file(file_path)\n",
    "            print(f'Modified: {file_path}')\n",
    "\n",
    "print('All HTML files processed.')\n"
   ]
  },
  {
   "cell_type": "code",
   "execution_count": null,
   "metadata": {},
   "outputs": [],
   "source": []
  },
  {
   "cell_type": "code",
   "execution_count": 19,
   "metadata": {},
   "outputs": [
    {
     "name": "stdout",
     "output_type": "stream",
     "text": [
      "Replacement completed in all HTML files.\n"
     ]
    }
   ],
   "source": [
    "import os\n",
    "from bs4 import BeautifulSoup\n",
    "\n",
    "# Directory path\n",
    "directory = r\"C:\\Users\\KOFI ADUKPO\\Downloads\\lyrics\"\n",
    "\n",
    "# Iterate through files in the directory\n",
    "for filename in os.listdir(directory):\n",
    "    if filename.endswith(\".html\"):\n",
    "        file_path = os.path.join(directory, filename)\n",
    "\n",
    "        # List of encoding types to try\n",
    "        encodings = ['utf-8', 'latin-1', 'windows-1252']  # Add more as needed\n",
    "\n",
    "        content = None\n",
    "        # Attempt to read the file with different encodings\n",
    "        for encoding in encodings:\n",
    "            try:\n",
    "                with open(file_path, 'r', encoding=encoding) as file:\n",
    "                    content = file.read()\n",
    "                    break  # Break the loop if the file is successfully read\n",
    "            except UnicodeDecodeError:\n",
    "                pass  # If decoding fails, try the next encoding\n",
    "\n",
    "        if content is not None:\n",
    "            soup = BeautifulSoup(content, 'html.parser')\n",
    "\n",
    "            # Retrieve all items in the h1 tag and store them in 'kog'\n",
    "            h1_tags = soup.find_all('h1')\n",
    "            kog = [h1.get_text() for h1 in h1_tags]\n",
    "            # Replace \"\\n\" with \"<br>\"\n",
    "            kog = kog[0].replace(\"\\n\", \" <br> \")\n",
    "\n",
    "            # print(p_with_br)\n",
    "\n",
    "            # Replace content of h1 tags with the 'kog' variable\n",
    "            for h1 in h1_tags:\n",
    "                h1.string = ' '.join(kog)\n",
    "\n",
    "            # Update the file with the modified content\n",
    "            with open(file_path, 'w', encoding='utf-8') as file:\n",
    "                file.write(str(soup))\n",
    "\n",
    "print(\"Replacement completed in all HTML files.\")\n"
   ]
  },
  {
   "cell_type": "code",
   "execution_count": 21,
   "metadata": {},
   "outputs": [
    {
     "data": {
      "text/plain": [
       "'1'"
      ]
     },
     "execution_count": 21,
     "metadata": {},
     "output_type": "execute_result"
    }
   ],
   "source": [
    "kog[0]"
   ]
  },
  {
   "cell_type": "code",
   "execution_count": null,
   "metadata": {},
   "outputs": [],
   "source": []
  },
  {
   "cell_type": "code",
   "execution_count": 1,
   "metadata": {},
   "outputs": [
    {
     "name": "stdout",
     "output_type": "stream",
     "text": [
      "1 O for a thousand tongues to sing <br> my great Redeemer's praise, <br> the glories of my God and King, <br> the triumphs of his grace! <br> 2 My gracious Master and my God, <br> assist me to proclaim, <br> to spread thro' all the earth abroad <br> the honors of your name. <br> 3 Jesus! the name that charms our fears, <br> that bids our sorrows cease, <br> 'tis music in the sinner's ears, <br> 'tis life and health and peace. <br> 4 He breaks the power of cancelled sin, <br> he sets the prisoner free; <br> his blood can make the foulest clean; <br> his blood availed for me. <br> 5 To God all glory, praise, and love <br> be now and ever given <br> by saints below and saints above, <br> the Church in earth and heaven. <br> Worship & Rejoice, 2003\n"
     ]
    }
   ],
   "source": [
    "p = \"1 O for a thousand tongues to sing\\nmy great Redeemer's praise,\\nthe glories of my God and King,\\nthe triumphs of his grace!\\n2 My gracious Master and my God,\\nassist me to proclaim,\\nto spread thro' all the earth abroad\\nthe honors of your name.\\n3 Jesus! the name that charms our fears,\\nthat bids our sorrows cease,\\n'tis music in the sinner's ears,\\n'tis life and health and peace.\\n4 He breaks the power of cancelled sin,\\nhe sets the prisoner free;\\nhis blood can make the foulest clean;\\nhis blood availed for me.\\n5 To God all glory, praise, and love\\nbe now and ever given\\nby saints below and saints above,\\nthe Church in earth and heaven.\\nWorship & Rejoice, 2003\"\n",
    "\n",
    "# Replacing '\\n' with '<br>'\n",
    "p_with_line_breaks = p.replace('\\n', ' <br> ')\n",
    "\n",
    "print(p_with_line_breaks)\n"
   ]
  },
  {
   "cell_type": "code",
   "execution_count": null,
   "metadata": {},
   "outputs": [],
   "source": []
  },
  {
   "cell_type": "code",
   "execution_count": null,
   "metadata": {},
   "outputs": [],
   "source": []
  }
 ],
 "metadata": {
  "kernelspec": {
   "display_name": "aenv",
   "language": "python",
   "name": "python3"
  },
  "language_info": {
   "codemirror_mode": {
    "name": "ipython",
    "version": 3
   },
   "file_extension": ".py",
   "mimetype": "text/x-python",
   "name": "python",
   "nbconvert_exporter": "python",
   "pygments_lexer": "ipython3",
   "version": "3.9.13"
  }
 },
 "nbformat": 4,
 "nbformat_minor": 2
}
